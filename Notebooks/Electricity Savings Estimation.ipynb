{
 "cells": [
  {
   "cell_type": "code",
   "execution_count": 42,
   "id": "2b1d6d4e",
   "metadata": {},
   "outputs": [],
   "source": [
    "import pandas as pd\n",
    "import numpy as np\n",
    "import warnings\n",
    "warnings.filterwarnings('ignore')"
   ]
  },
  {
   "cell_type": "code",
   "execution_count": 43,
   "id": "0cd2182a",
   "metadata": {},
   "outputs": [],
   "source": [
    "df = pd.read_csv(r'C:\\Users\\mahat\\OneDrive\\Desktop\\Optimizing-Household-Electricity-through-Machine-Learning-main\\Datasets\\final_electricity_data.csv')\n",
    "df['Date'] = pd.to_datetime(df['Date'])\n",
    "# df = df[df['Date'].dt.year == 2021]\n",
    "df.reset_index(drop=True, inplace=True)"
   ]
  },
  {
   "cell_type": "code",
   "execution_count": 44,
   "id": "3fae698d",
   "metadata": {},
   "outputs": [
    {
     "data": {
      "text/html": [
       "<div>\n",
       "<style scoped>\n",
       "    .dataframe tbody tr th:only-of-type {\n",
       "        vertical-align: middle;\n",
       "    }\n",
       "\n",
       "    .dataframe tbody tr th {\n",
       "        vertical-align: top;\n",
       "    }\n",
       "\n",
       "    .dataframe thead th {\n",
       "        text-align: right;\n",
       "    }\n",
       "</style>\n",
       "<table border=\"1\" class=\"dataframe\">\n",
       "  <thead>\n",
       "    <tr style=\"text-align: right;\">\n",
       "      <th></th>\n",
       "      <th>Date</th>\n",
       "      <th>Total_Consumption</th>\n",
       "    </tr>\n",
       "  </thead>\n",
       "  <tbody>\n",
       "    <tr>\n",
       "      <th>0</th>\n",
       "      <td>2020-01-01</td>\n",
       "      <td>10.6</td>\n",
       "    </tr>\n",
       "    <tr>\n",
       "      <th>1</th>\n",
       "      <td>2020-01-02</td>\n",
       "      <td>11.5</td>\n",
       "    </tr>\n",
       "    <tr>\n",
       "      <th>2</th>\n",
       "      <td>2020-01-03</td>\n",
       "      <td>24.3</td>\n",
       "    </tr>\n",
       "    <tr>\n",
       "      <th>3</th>\n",
       "      <td>2020-01-04</td>\n",
       "      <td>12.1</td>\n",
       "    </tr>\n",
       "    <tr>\n",
       "      <th>4</th>\n",
       "      <td>2020-01-05</td>\n",
       "      <td>8.5</td>\n",
       "    </tr>\n",
       "    <tr>\n",
       "      <th>...</th>\n",
       "      <td>...</td>\n",
       "      <td>...</td>\n",
       "    </tr>\n",
       "    <tr>\n",
       "      <th>1435</th>\n",
       "      <td>2023-12-27</td>\n",
       "      <td>12.4</td>\n",
       "    </tr>\n",
       "    <tr>\n",
       "      <th>1436</th>\n",
       "      <td>2023-12-28</td>\n",
       "      <td>8.5</td>\n",
       "    </tr>\n",
       "    <tr>\n",
       "      <th>1437</th>\n",
       "      <td>2023-12-29</td>\n",
       "      <td>2.5</td>\n",
       "    </tr>\n",
       "    <tr>\n",
       "      <th>1438</th>\n",
       "      <td>2023-12-30</td>\n",
       "      <td>5.1</td>\n",
       "    </tr>\n",
       "    <tr>\n",
       "      <th>1439</th>\n",
       "      <td>2023-12-31</td>\n",
       "      <td>11.4</td>\n",
       "    </tr>\n",
       "  </tbody>\n",
       "</table>\n",
       "<p>1440 rows × 2 columns</p>\n",
       "</div>"
      ],
      "text/plain": [
       "           Date  Total_Consumption\n",
       "0    2020-01-01               10.6\n",
       "1    2020-01-02               11.5\n",
       "2    2020-01-03               24.3\n",
       "3    2020-01-04               12.1\n",
       "4    2020-01-05                8.5\n",
       "...         ...                ...\n",
       "1435 2023-12-27               12.4\n",
       "1436 2023-12-28                8.5\n",
       "1437 2023-12-29                2.5\n",
       "1438 2023-12-30                5.1\n",
       "1439 2023-12-31               11.4\n",
       "\n",
       "[1440 rows x 2 columns]"
      ]
     },
     "execution_count": 44,
     "metadata": {},
     "output_type": "execute_result"
    }
   ],
   "source": [
    "df"
   ]
  },
  {
   "cell_type": "code",
   "execution_count": 45,
   "id": "49fe3791",
   "metadata": {},
   "outputs": [
    {
     "data": {
      "text/html": [
       "<div>\n",
       "<style scoped>\n",
       "    .dataframe tbody tr th:only-of-type {\n",
       "        vertical-align: middle;\n",
       "    }\n",
       "\n",
       "    .dataframe tbody tr th {\n",
       "        vertical-align: top;\n",
       "    }\n",
       "\n",
       "    .dataframe thead th {\n",
       "        text-align: right;\n",
       "    }\n",
       "</style>\n",
       "<table border=\"1\" class=\"dataframe\">\n",
       "  <thead>\n",
       "    <tr style=\"text-align: right;\">\n",
       "      <th></th>\n",
       "      <th>Date</th>\n",
       "      <th>Total_Consumption</th>\n",
       "    </tr>\n",
       "  </thead>\n",
       "  <tbody>\n",
       "    <tr>\n",
       "      <th>1435</th>\n",
       "      <td>2023-12-27</td>\n",
       "      <td>12.4</td>\n",
       "    </tr>\n",
       "    <tr>\n",
       "      <th>1436</th>\n",
       "      <td>2023-12-28</td>\n",
       "      <td>8.5</td>\n",
       "    </tr>\n",
       "    <tr>\n",
       "      <th>1437</th>\n",
       "      <td>2023-12-29</td>\n",
       "      <td>2.5</td>\n",
       "    </tr>\n",
       "    <tr>\n",
       "      <th>1438</th>\n",
       "      <td>2023-12-30</td>\n",
       "      <td>5.1</td>\n",
       "    </tr>\n",
       "    <tr>\n",
       "      <th>1439</th>\n",
       "      <td>2023-12-31</td>\n",
       "      <td>11.4</td>\n",
       "    </tr>\n",
       "  </tbody>\n",
       "</table>\n",
       "</div>"
      ],
      "text/plain": [
       "           Date  Total_Consumption\n",
       "1435 2023-12-27               12.4\n",
       "1436 2023-12-28                8.5\n",
       "1437 2023-12-29                2.5\n",
       "1438 2023-12-30                5.1\n",
       "1439 2023-12-31               11.4"
      ]
     },
     "execution_count": 45,
     "metadata": {},
     "output_type": "execute_result"
    }
   ],
   "source": [
    "df.tail()"
   ]
  },
  {
   "cell_type": "code",
   "execution_count": 46,
   "id": "5f13b757",
   "metadata": {},
   "outputs": [
    {
     "data": {
      "text/plain": [
       "(1440, 2)"
      ]
     },
     "execution_count": 46,
     "metadata": {},
     "output_type": "execute_result"
    }
   ],
   "source": [
    "df.shape"
   ]
  },
  {
   "cell_type": "code",
   "execution_count": 47,
   "id": "bfe47811",
   "metadata": {
    "scrolled": true
   },
   "outputs": [],
   "source": [
    "import math\n",
    "import statsmodels.api as sm\n",
    "import statsmodels.tsa.api as smt\n",
    "# from sklearn.metrics import mean_squared_error\n",
    "from matplotlib import pyplot\n",
    "import matplotlib.pyplot as plt\n",
    "\n",
    "actual_vals = df.Total_Consumption.values\n",
    "actual_log = np.log10(actual_vals)\n",
    "\n",
    "train, test = actual_vals[0:-80], actual_vals[-80:]\n",
    "train_log, test_log = np.log10(train), np.log10(test)\n",
    "my_order = (1, 1, 1)\n",
    "my_seasonal_order = (1, 1, 1, 7)"
   ]
  },
  {
   "cell_type": "code",
   "execution_count": 48,
   "id": "be1b3a88",
   "metadata": {
    "scrolled": false
   },
   "outputs": [],
   "source": [
    "history = [x for x in train_log]\n",
    "predictions = list()\n",
    "predict_log=list()\n",
    "for t in range(len(test_log)):\n",
    "    model = sm.tsa.SARIMAX(history, order=my_order, seasonal_order=my_seasonal_order,enforce_stationarity=False,enforce_invertibility=False)\n",
    "    model_fit = model.fit(disp=0)\n",
    "    output = model_fit.forecast()\n",
    "    predict_log.append(output[0])\n",
    "    yhat = 10**output[0]\n",
    "    predictions.append(yhat)\n",
    "    # obs = test_log[t]\n",
    "    # history.append(obs)\n",
    "   # print('predicted=%f, expected=%f' % (output[0], obs))\n",
    "#error = math.sqrt(mean_squared_error(test_log, predict_log))\n",
    "#print('Test rmse: %.3f' % error)\n",
    "# plot\n",
    "# figsize=(12, 7)\n",
    "# plt.figure(figsize=figsize)\n",
    "# pyplot.plot(test,label='Actuals')\n",
    "# pyplot.plot(predictions, color='red',label='Predicted')\n",
    "# pyplot.legend(loc='upper right')\n",
    "# pyplot.show()"
   ]
  },
  {
   "cell_type": "code",
   "execution_count": 49,
   "id": "18b513bc",
   "metadata": {},
   "outputs": [],
   "source": [
    "import pickle \n",
    "with open('module.pkl','wb') as f:\n",
    "    pickle.dump(model_fit,f)"
   ]
  },
  {
   "cell_type": "code",
   "execution_count": 50,
   "id": "aa85e0c0",
   "metadata": {
    "scrolled": true
   },
   "outputs": [
    {
     "data": {
      "text/html": [
       "<div>\n",
       "<style scoped>\n",
       "    .dataframe tbody tr th:only-of-type {\n",
       "        vertical-align: middle;\n",
       "    }\n",
       "\n",
       "    .dataframe tbody tr th {\n",
       "        vertical-align: top;\n",
       "    }\n",
       "\n",
       "    .dataframe thead th {\n",
       "        text-align: right;\n",
       "    }\n",
       "</style>\n",
       "<table border=\"1\" class=\"dataframe\">\n",
       "  <thead>\n",
       "    <tr style=\"text-align: right;\">\n",
       "      <th></th>\n",
       "      <th>Date</th>\n",
       "      <th>Total_Consumption</th>\n",
       "      <th>Predicted_Consumption</th>\n",
       "    </tr>\n",
       "  </thead>\n",
       "  <tbody>\n",
       "    <tr>\n",
       "      <th>1360</th>\n",
       "      <td>2023-10-13</td>\n",
       "      <td>23.4</td>\n",
       "      <td>27.115414</td>\n",
       "    </tr>\n",
       "    <tr>\n",
       "      <th>1361</th>\n",
       "      <td>2023-10-14</td>\n",
       "      <td>25.8</td>\n",
       "      <td>27.115414</td>\n",
       "    </tr>\n",
       "    <tr>\n",
       "      <th>1362</th>\n",
       "      <td>2023-10-15</td>\n",
       "      <td>54.9</td>\n",
       "      <td>27.115414</td>\n",
       "    </tr>\n",
       "    <tr>\n",
       "      <th>1363</th>\n",
       "      <td>2023-10-16</td>\n",
       "      <td>24.6</td>\n",
       "      <td>27.115414</td>\n",
       "    </tr>\n",
       "    <tr>\n",
       "      <th>1364</th>\n",
       "      <td>2023-10-17</td>\n",
       "      <td>39.9</td>\n",
       "      <td>27.115414</td>\n",
       "    </tr>\n",
       "    <tr>\n",
       "      <th>...</th>\n",
       "      <td>...</td>\n",
       "      <td>...</td>\n",
       "      <td>...</td>\n",
       "    </tr>\n",
       "    <tr>\n",
       "      <th>1435</th>\n",
       "      <td>2023-12-27</td>\n",
       "      <td>12.4</td>\n",
       "      <td>27.115414</td>\n",
       "    </tr>\n",
       "    <tr>\n",
       "      <th>1436</th>\n",
       "      <td>2023-12-28</td>\n",
       "      <td>8.5</td>\n",
       "      <td>27.115414</td>\n",
       "    </tr>\n",
       "    <tr>\n",
       "      <th>1437</th>\n",
       "      <td>2023-12-29</td>\n",
       "      <td>2.5</td>\n",
       "      <td>27.115414</td>\n",
       "    </tr>\n",
       "    <tr>\n",
       "      <th>1438</th>\n",
       "      <td>2023-12-30</td>\n",
       "      <td>5.1</td>\n",
       "      <td>27.115414</td>\n",
       "    </tr>\n",
       "    <tr>\n",
       "      <th>1439</th>\n",
       "      <td>2023-12-31</td>\n",
       "      <td>11.4</td>\n",
       "      <td>27.115414</td>\n",
       "    </tr>\n",
       "  </tbody>\n",
       "</table>\n",
       "<p>80 rows × 3 columns</p>\n",
       "</div>"
      ],
      "text/plain": [
       "           Date  Total_Consumption  Predicted_Consumption\n",
       "1360 2023-10-13               23.4              27.115414\n",
       "1361 2023-10-14               25.8              27.115414\n",
       "1362 2023-10-15               54.9              27.115414\n",
       "1363 2023-10-16               24.6              27.115414\n",
       "1364 2023-10-17               39.9              27.115414\n",
       "...         ...                ...                    ...\n",
       "1435 2023-12-27               12.4              27.115414\n",
       "1436 2023-12-28                8.5              27.115414\n",
       "1437 2023-12-29                2.5              27.115414\n",
       "1438 2023-12-30                5.1              27.115414\n",
       "1439 2023-12-31               11.4              27.115414\n",
       "\n",
       "[80 rows x 3 columns]"
      ]
     },
     "execution_count": 50,
     "metadata": {},
     "output_type": "execute_result"
    }
   ],
   "source": [
    "df_preds = df[-80:]\n",
    "df_preds['Predicted_Consumption'] = predictions\n",
    "df_preds"
   ]
  },
  {
   "cell_type": "code",
   "execution_count": 52,
   "id": "1aad221b",
   "metadata": {},
   "outputs": [],
   "source": [
    "import plotly.graph_objects as go\n",
    "import plotly.offline as py"
   ]
  },
  {
   "cell_type": "code",
   "execution_count": 53,
   "id": "a6cca289",
   "metadata": {},
   "outputs": [
    {
     "data": {
      "application/vnd.plotly.v1+json": {
       "config": {
        "plotlyServerURL": "https://plot.ly"
       },
       "data": [
        {
         "mode": "lines",
         "name": "lines",
         "type": "scatter",
         "x": [
          "2023-10-13T00:00:00.000000000",
          "2023-10-14T00:00:00.000000000",
          "2023-10-15T00:00:00.000000000",
          "2023-10-16T00:00:00.000000000",
          "2023-10-17T00:00:00.000000000",
          "2023-10-18T00:00:00.000000000",
          "2023-10-19T00:00:00.000000000",
          "2023-10-20T00:00:00.000000000",
          "2023-10-21T00:00:00.000000000",
          "2023-10-22T00:00:00.000000000",
          "2023-10-23T00:00:00.000000000",
          "2023-10-24T00:00:00.000000000",
          "2023-10-25T00:00:00.000000000",
          "2023-10-26T00:00:00.000000000",
          "2023-10-27T00:00:00.000000000",
          "2023-10-28T00:00:00.000000000",
          "2023-10-29T00:00:00.000000000",
          "2023-10-30T00:00:00.000000000",
          "2023-10-31T00:00:00.000000000",
          "2023-11-01T00:00:00.000000000",
          "2023-11-02T00:00:00.000000000",
          "2023-11-03T00:00:00.000000000",
          "2023-11-04T00:00:00.000000000",
          "2023-11-05T00:00:00.000000000",
          "2023-11-06T00:00:00.000000000",
          "2023-11-07T00:00:00.000000000",
          "2023-11-08T00:00:00.000000000",
          "2023-11-09T00:00:00.000000000",
          "2023-11-10T00:00:00.000000000",
          "2023-11-11T00:00:00.000000000",
          "2023-11-12T00:00:00.000000000",
          "2023-11-13T00:00:00.000000000",
          "2023-11-14T00:00:00.000000000",
          "2023-11-15T00:00:00.000000000",
          "2023-11-16T00:00:00.000000000",
          "2023-11-17T00:00:00.000000000",
          "2023-11-18T00:00:00.000000000",
          "2023-11-19T00:00:00.000000000",
          "2023-11-20T00:00:00.000000000",
          "2023-11-21T00:00:00.000000000",
          "2023-11-22T00:00:00.000000000",
          "2023-11-23T00:00:00.000000000",
          "2023-11-24T00:00:00.000000000",
          "2023-11-25T00:00:00.000000000",
          "2023-11-26T00:00:00.000000000",
          "2023-11-27T00:00:00.000000000",
          "2023-11-28T00:00:00.000000000",
          "2023-11-29T00:00:00.000000000",
          "2023-11-30T00:00:00.000000000",
          "2023-12-01T00:00:00.000000000",
          "2023-12-02T00:00:00.000000000",
          "2023-12-03T00:00:00.000000000",
          "2023-12-04T00:00:00.000000000",
          "2023-12-05T00:00:00.000000000",
          "2023-12-06T00:00:00.000000000",
          "2023-12-07T00:00:00.000000000",
          "2023-12-08T00:00:00.000000000",
          "2023-12-09T00:00:00.000000000",
          "2023-12-10T00:00:00.000000000",
          "2023-12-11T00:00:00.000000000",
          "2023-12-12T00:00:00.000000000",
          "2023-12-13T00:00:00.000000000",
          "2023-12-14T00:00:00.000000000",
          "2023-12-15T00:00:00.000000000",
          "2023-12-16T00:00:00.000000000",
          "2023-12-17T00:00:00.000000000",
          "2023-12-18T00:00:00.000000000",
          "2023-12-19T00:00:00.000000000",
          "2023-12-20T00:00:00.000000000",
          "2023-12-21T00:00:00.000000000",
          "2023-12-22T00:00:00.000000000",
          "2023-12-23T00:00:00.000000000",
          "2023-12-24T00:00:00.000000000",
          "2023-12-25T00:00:00.000000000",
          "2023-12-26T00:00:00.000000000",
          "2023-12-27T00:00:00.000000000",
          "2023-12-28T00:00:00.000000000",
          "2023-12-29T00:00:00.000000000",
          "2023-12-30T00:00:00.000000000",
          "2023-12-31T00:00:00.000000000"
         ],
         "y": {
          "bdata": "ZmZmZmZmN0DNzMzMzMw5QDQzMzMzc0tAmpmZmZmZOEA0MzMzM/NDQAAAAAAAAEJAzczMzMzMSUDNzMzMzMw/QJqZmZmZmUJAZmZmZmbmPkCamZmZmZk+QJqZmZmZGU1AzczMzMzMNkA0MzMzMzMfQDQzMzMzMyBAZmZmZmbmOEDNzMzMzEw4QDMzMzMzMy9AZmZmZmZmMUCamZmZmRk6QDQzMzMzMzlAAAAAAADARUDNzMzMzEw+QGZmZmZmZjpAmpmZmZkZNECamZmZmRk0QGdmZmZmZhpANDMzMzOzMUAAAAAAAEBBQGZmZmZmpkZANDMzMzMzNkDMzMzMzMwwQGZmZmZm5jtAzczMzMwMT0BmZmZmZuZIQJqZmZmZGTRANDMzMzOzOkBmZmZmZuZCQM3MzMzMzDlAAAAAAACAOUCamZmZmZk7QMzMzMzMLFRAmpmZmZlZRkBmZmZmZuZFQAAAAAAAgDZAzczMzMwMQ0CamZmZmZk7QDQzMzMzs0pAzczMzMwMRkAAAAAAAIA0QJqZmZmZmShAzczMzMzMJUBmZmZmZmY1QGZmZmZmZiNAAAAAAAAAIEDNzMzMzMwpQM3MzMzMzPw/ZmZmZmZmIEAAAAAAAIAwQM3MzMzMzClAzczMzMzMIUAzMzMzMzMkQGZmZmZmZi1AzczMzMzMIUDNzMzMzMweQJqZmZmZmSpAMzMzMzMzIUBmZmZmZmYjQAAAAAAAADFAzczMzMxMNUAAAAAAAAAmQJqZmZmZmShAZmZmZmZmFkDNzMzMzMwSQJqZmZmZmRlAzczMzMzMKEAAAAAAAAAhQAAAAAAAAARAZmZmZmZmFEDNzMzMzMwmQA==",
          "dtype": "f8"
         }
        },
        {
         "mode": "lines",
         "name": "lines",
         "type": "scatter",
         "x": [
          "2023-10-13T00:00:00.000000000",
          "2023-10-14T00:00:00.000000000",
          "2023-10-15T00:00:00.000000000",
          "2023-10-16T00:00:00.000000000",
          "2023-10-17T00:00:00.000000000",
          "2023-10-18T00:00:00.000000000",
          "2023-10-19T00:00:00.000000000",
          "2023-10-20T00:00:00.000000000",
          "2023-10-21T00:00:00.000000000",
          "2023-10-22T00:00:00.000000000",
          "2023-10-23T00:00:00.000000000",
          "2023-10-24T00:00:00.000000000",
          "2023-10-25T00:00:00.000000000",
          "2023-10-26T00:00:00.000000000",
          "2023-10-27T00:00:00.000000000",
          "2023-10-28T00:00:00.000000000",
          "2023-10-29T00:00:00.000000000",
          "2023-10-30T00:00:00.000000000",
          "2023-10-31T00:00:00.000000000",
          "2023-11-01T00:00:00.000000000",
          "2023-11-02T00:00:00.000000000",
          "2023-11-03T00:00:00.000000000",
          "2023-11-04T00:00:00.000000000",
          "2023-11-05T00:00:00.000000000",
          "2023-11-06T00:00:00.000000000",
          "2023-11-07T00:00:00.000000000",
          "2023-11-08T00:00:00.000000000",
          "2023-11-09T00:00:00.000000000",
          "2023-11-10T00:00:00.000000000",
          "2023-11-11T00:00:00.000000000",
          "2023-11-12T00:00:00.000000000",
          "2023-11-13T00:00:00.000000000",
          "2023-11-14T00:00:00.000000000",
          "2023-11-15T00:00:00.000000000",
          "2023-11-16T00:00:00.000000000",
          "2023-11-17T00:00:00.000000000",
          "2023-11-18T00:00:00.000000000",
          "2023-11-19T00:00:00.000000000",
          "2023-11-20T00:00:00.000000000",
          "2023-11-21T00:00:00.000000000",
          "2023-11-22T00:00:00.000000000",
          "2023-11-23T00:00:00.000000000",
          "2023-11-24T00:00:00.000000000",
          "2023-11-25T00:00:00.000000000",
          "2023-11-26T00:00:00.000000000",
          "2023-11-27T00:00:00.000000000",
          "2023-11-28T00:00:00.000000000",
          "2023-11-29T00:00:00.000000000",
          "2023-11-30T00:00:00.000000000",
          "2023-12-01T00:00:00.000000000",
          "2023-12-02T00:00:00.000000000",
          "2023-12-03T00:00:00.000000000",
          "2023-12-04T00:00:00.000000000",
          "2023-12-05T00:00:00.000000000",
          "2023-12-06T00:00:00.000000000",
          "2023-12-07T00:00:00.000000000",
          "2023-12-08T00:00:00.000000000",
          "2023-12-09T00:00:00.000000000",
          "2023-12-10T00:00:00.000000000",
          "2023-12-11T00:00:00.000000000",
          "2023-12-12T00:00:00.000000000",
          "2023-12-13T00:00:00.000000000",
          "2023-12-14T00:00:00.000000000",
          "2023-12-15T00:00:00.000000000",
          "2023-12-16T00:00:00.000000000",
          "2023-12-17T00:00:00.000000000",
          "2023-12-18T00:00:00.000000000",
          "2023-12-19T00:00:00.000000000",
          "2023-12-20T00:00:00.000000000",
          "2023-12-21T00:00:00.000000000",
          "2023-12-22T00:00:00.000000000",
          "2023-12-23T00:00:00.000000000",
          "2023-12-24T00:00:00.000000000",
          "2023-12-25T00:00:00.000000000",
          "2023-12-26T00:00:00.000000000",
          "2023-12-27T00:00:00.000000000",
          "2023-12-28T00:00:00.000000000",
          "2023-12-29T00:00:00.000000000",
          "2023-12-30T00:00:00.000000000",
          "2023-12-31T00:00:00.000000000"
         ],
         "y": {
          "bdata": "oZxexosdO0ChnF7Gix07QKGcXsaLHTtAoZxexosdO0ChnF7Gix07QKGcXsaLHTtAoZxexosdO0ChnF7Gix07QKGcXsaLHTtAoZxexosdO0ChnF7Gix07QKGcXsaLHTtAoZxexosdO0ChnF7Gix07QKGcXsaLHTtAoZxexosdO0ChnF7Gix07QKGcXsaLHTtAoZxexosdO0ChnF7Gix07QKGcXsaLHTtAoZxexosdO0ChnF7Gix07QKGcXsaLHTtAoZxexosdO0ChnF7Gix07QKGcXsaLHTtAoZxexosdO0ChnF7Gix07QKGcXsaLHTtAoZxexosdO0ChnF7Gix07QKGcXsaLHTtAoZxexosdO0ChnF7Gix07QKGcXsaLHTtAoZxexosdO0ChnF7Gix07QKGcXsaLHTtAoZxexosdO0ChnF7Gix07QKGcXsaLHTtAoZxexosdO0ChnF7Gix07QKGcXsaLHTtAoZxexosdO0ChnF7Gix07QKGcXsaLHTtAoZxexosdO0ChnF7Gix07QKGcXsaLHTtAoZxexosdO0ChnF7Gix07QKGcXsaLHTtAoZxexosdO0ChnF7Gix07QKGcXsaLHTtAoZxexosdO0ChnF7Gix07QKGcXsaLHTtAoZxexosdO0ChnF7Gix07QKGcXsaLHTtAoZxexosdO0ChnF7Gix07QKGcXsaLHTtAoZxexosdO0ChnF7Gix07QKGcXsaLHTtAoZxexosdO0ChnF7Gix07QKGcXsaLHTtAoZxexosdO0ChnF7Gix07QKGcXsaLHTtAoZxexosdO0ChnF7Gix07QKGcXsaLHTtAoZxexosdO0ChnF7Gix07QA==",
          "dtype": "f8"
         }
        }
       ],
       "layout": {
        "template": {
         "data": {
          "bar": [
           {
            "error_x": {
             "color": "#2a3f5f"
            },
            "error_y": {
             "color": "#2a3f5f"
            },
            "marker": {
             "line": {
              "color": "#E5ECF6",
              "width": 0.5
             },
             "pattern": {
              "fillmode": "overlay",
              "size": 10,
              "solidity": 0.2
             }
            },
            "type": "bar"
           }
          ],
          "barpolar": [
           {
            "marker": {
             "line": {
              "color": "#E5ECF6",
              "width": 0.5
             },
             "pattern": {
              "fillmode": "overlay",
              "size": 10,
              "solidity": 0.2
             }
            },
            "type": "barpolar"
           }
          ],
          "carpet": [
           {
            "aaxis": {
             "endlinecolor": "#2a3f5f",
             "gridcolor": "white",
             "linecolor": "white",
             "minorgridcolor": "white",
             "startlinecolor": "#2a3f5f"
            },
            "baxis": {
             "endlinecolor": "#2a3f5f",
             "gridcolor": "white",
             "linecolor": "white",
             "minorgridcolor": "white",
             "startlinecolor": "#2a3f5f"
            },
            "type": "carpet"
           }
          ],
          "choropleth": [
           {
            "colorbar": {
             "outlinewidth": 0,
             "ticks": ""
            },
            "type": "choropleth"
           }
          ],
          "contour": [
           {
            "colorbar": {
             "outlinewidth": 0,
             "ticks": ""
            },
            "colorscale": [
             [
              0,
              "#0d0887"
             ],
             [
              0.1111111111111111,
              "#46039f"
             ],
             [
              0.2222222222222222,
              "#7201a8"
             ],
             [
              0.3333333333333333,
              "#9c179e"
             ],
             [
              0.4444444444444444,
              "#bd3786"
             ],
             [
              0.5555555555555556,
              "#d8576b"
             ],
             [
              0.6666666666666666,
              "#ed7953"
             ],
             [
              0.7777777777777778,
              "#fb9f3a"
             ],
             [
              0.8888888888888888,
              "#fdca26"
             ],
             [
              1,
              "#f0f921"
             ]
            ],
            "type": "contour"
           }
          ],
          "contourcarpet": [
           {
            "colorbar": {
             "outlinewidth": 0,
             "ticks": ""
            },
            "type": "contourcarpet"
           }
          ],
          "heatmap": [
           {
            "colorbar": {
             "outlinewidth": 0,
             "ticks": ""
            },
            "colorscale": [
             [
              0,
              "#0d0887"
             ],
             [
              0.1111111111111111,
              "#46039f"
             ],
             [
              0.2222222222222222,
              "#7201a8"
             ],
             [
              0.3333333333333333,
              "#9c179e"
             ],
             [
              0.4444444444444444,
              "#bd3786"
             ],
             [
              0.5555555555555556,
              "#d8576b"
             ],
             [
              0.6666666666666666,
              "#ed7953"
             ],
             [
              0.7777777777777778,
              "#fb9f3a"
             ],
             [
              0.8888888888888888,
              "#fdca26"
             ],
             [
              1,
              "#f0f921"
             ]
            ],
            "type": "heatmap"
           }
          ],
          "histogram": [
           {
            "marker": {
             "pattern": {
              "fillmode": "overlay",
              "size": 10,
              "solidity": 0.2
             }
            },
            "type": "histogram"
           }
          ],
          "histogram2d": [
           {
            "colorbar": {
             "outlinewidth": 0,
             "ticks": ""
            },
            "colorscale": [
             [
              0,
              "#0d0887"
             ],
             [
              0.1111111111111111,
              "#46039f"
             ],
             [
              0.2222222222222222,
              "#7201a8"
             ],
             [
              0.3333333333333333,
              "#9c179e"
             ],
             [
              0.4444444444444444,
              "#bd3786"
             ],
             [
              0.5555555555555556,
              "#d8576b"
             ],
             [
              0.6666666666666666,
              "#ed7953"
             ],
             [
              0.7777777777777778,
              "#fb9f3a"
             ],
             [
              0.8888888888888888,
              "#fdca26"
             ],
             [
              1,
              "#f0f921"
             ]
            ],
            "type": "histogram2d"
           }
          ],
          "histogram2dcontour": [
           {
            "colorbar": {
             "outlinewidth": 0,
             "ticks": ""
            },
            "colorscale": [
             [
              0,
              "#0d0887"
             ],
             [
              0.1111111111111111,
              "#46039f"
             ],
             [
              0.2222222222222222,
              "#7201a8"
             ],
             [
              0.3333333333333333,
              "#9c179e"
             ],
             [
              0.4444444444444444,
              "#bd3786"
             ],
             [
              0.5555555555555556,
              "#d8576b"
             ],
             [
              0.6666666666666666,
              "#ed7953"
             ],
             [
              0.7777777777777778,
              "#fb9f3a"
             ],
             [
              0.8888888888888888,
              "#fdca26"
             ],
             [
              1,
              "#f0f921"
             ]
            ],
            "type": "histogram2dcontour"
           }
          ],
          "mesh3d": [
           {
            "colorbar": {
             "outlinewidth": 0,
             "ticks": ""
            },
            "type": "mesh3d"
           }
          ],
          "parcoords": [
           {
            "line": {
             "colorbar": {
              "outlinewidth": 0,
              "ticks": ""
             }
            },
            "type": "parcoords"
           }
          ],
          "pie": [
           {
            "automargin": true,
            "type": "pie"
           }
          ],
          "scatter": [
           {
            "fillpattern": {
             "fillmode": "overlay",
             "size": 10,
             "solidity": 0.2
            },
            "type": "scatter"
           }
          ],
          "scatter3d": [
           {
            "line": {
             "colorbar": {
              "outlinewidth": 0,
              "ticks": ""
             }
            },
            "marker": {
             "colorbar": {
              "outlinewidth": 0,
              "ticks": ""
             }
            },
            "type": "scatter3d"
           }
          ],
          "scattercarpet": [
           {
            "marker": {
             "colorbar": {
              "outlinewidth": 0,
              "ticks": ""
             }
            },
            "type": "scattercarpet"
           }
          ],
          "scattergeo": [
           {
            "marker": {
             "colorbar": {
              "outlinewidth": 0,
              "ticks": ""
             }
            },
            "type": "scattergeo"
           }
          ],
          "scattergl": [
           {
            "marker": {
             "colorbar": {
              "outlinewidth": 0,
              "ticks": ""
             }
            },
            "type": "scattergl"
           }
          ],
          "scattermap": [
           {
            "marker": {
             "colorbar": {
              "outlinewidth": 0,
              "ticks": ""
             }
            },
            "type": "scattermap"
           }
          ],
          "scattermapbox": [
           {
            "marker": {
             "colorbar": {
              "outlinewidth": 0,
              "ticks": ""
             }
            },
            "type": "scattermapbox"
           }
          ],
          "scatterpolar": [
           {
            "marker": {
             "colorbar": {
              "outlinewidth": 0,
              "ticks": ""
             }
            },
            "type": "scatterpolar"
           }
          ],
          "scatterpolargl": [
           {
            "marker": {
             "colorbar": {
              "outlinewidth": 0,
              "ticks": ""
             }
            },
            "type": "scatterpolargl"
           }
          ],
          "scatterternary": [
           {
            "marker": {
             "colorbar": {
              "outlinewidth": 0,
              "ticks": ""
             }
            },
            "type": "scatterternary"
           }
          ],
          "surface": [
           {
            "colorbar": {
             "outlinewidth": 0,
             "ticks": ""
            },
            "colorscale": [
             [
              0,
              "#0d0887"
             ],
             [
              0.1111111111111111,
              "#46039f"
             ],
             [
              0.2222222222222222,
              "#7201a8"
             ],
             [
              0.3333333333333333,
              "#9c179e"
             ],
             [
              0.4444444444444444,
              "#bd3786"
             ],
             [
              0.5555555555555556,
              "#d8576b"
             ],
             [
              0.6666666666666666,
              "#ed7953"
             ],
             [
              0.7777777777777778,
              "#fb9f3a"
             ],
             [
              0.8888888888888888,
              "#fdca26"
             ],
             [
              1,
              "#f0f921"
             ]
            ],
            "type": "surface"
           }
          ],
          "table": [
           {
            "cells": {
             "fill": {
              "color": "#EBF0F8"
             },
             "line": {
              "color": "white"
             }
            },
            "header": {
             "fill": {
              "color": "#C8D4E3"
             },
             "line": {
              "color": "white"
             }
            },
            "type": "table"
           }
          ]
         },
         "layout": {
          "annotationdefaults": {
           "arrowcolor": "#2a3f5f",
           "arrowhead": 0,
           "arrowwidth": 1
          },
          "autotypenumbers": "strict",
          "coloraxis": {
           "colorbar": {
            "outlinewidth": 0,
            "ticks": ""
           }
          },
          "colorscale": {
           "diverging": [
            [
             0,
             "#8e0152"
            ],
            [
             0.1,
             "#c51b7d"
            ],
            [
             0.2,
             "#de77ae"
            ],
            [
             0.3,
             "#f1b6da"
            ],
            [
             0.4,
             "#fde0ef"
            ],
            [
             0.5,
             "#f7f7f7"
            ],
            [
             0.6,
             "#e6f5d0"
            ],
            [
             0.7,
             "#b8e186"
            ],
            [
             0.8,
             "#7fbc41"
            ],
            [
             0.9,
             "#4d9221"
            ],
            [
             1,
             "#276419"
            ]
           ],
           "sequential": [
            [
             0,
             "#0d0887"
            ],
            [
             0.1111111111111111,
             "#46039f"
            ],
            [
             0.2222222222222222,
             "#7201a8"
            ],
            [
             0.3333333333333333,
             "#9c179e"
            ],
            [
             0.4444444444444444,
             "#bd3786"
            ],
            [
             0.5555555555555556,
             "#d8576b"
            ],
            [
             0.6666666666666666,
             "#ed7953"
            ],
            [
             0.7777777777777778,
             "#fb9f3a"
            ],
            [
             0.8888888888888888,
             "#fdca26"
            ],
            [
             1,
             "#f0f921"
            ]
           ],
           "sequentialminus": [
            [
             0,
             "#0d0887"
            ],
            [
             0.1111111111111111,
             "#46039f"
            ],
            [
             0.2222222222222222,
             "#7201a8"
            ],
            [
             0.3333333333333333,
             "#9c179e"
            ],
            [
             0.4444444444444444,
             "#bd3786"
            ],
            [
             0.5555555555555556,
             "#d8576b"
            ],
            [
             0.6666666666666666,
             "#ed7953"
            ],
            [
             0.7777777777777778,
             "#fb9f3a"
            ],
            [
             0.8888888888888888,
             "#fdca26"
            ],
            [
             1,
             "#f0f921"
            ]
           ]
          },
          "colorway": [
           "#636efa",
           "#EF553B",
           "#00cc96",
           "#ab63fa",
           "#FFA15A",
           "#19d3f3",
           "#FF6692",
           "#B6E880",
           "#FF97FF",
           "#FECB52"
          ],
          "font": {
           "color": "#2a3f5f"
          },
          "geo": {
           "bgcolor": "white",
           "lakecolor": "white",
           "landcolor": "#E5ECF6",
           "showlakes": true,
           "showland": true,
           "subunitcolor": "white"
          },
          "hoverlabel": {
           "align": "left"
          },
          "hovermode": "closest",
          "mapbox": {
           "style": "light"
          },
          "paper_bgcolor": "white",
          "plot_bgcolor": "#E5ECF6",
          "polar": {
           "angularaxis": {
            "gridcolor": "white",
            "linecolor": "white",
            "ticks": ""
           },
           "bgcolor": "#E5ECF6",
           "radialaxis": {
            "gridcolor": "white",
            "linecolor": "white",
            "ticks": ""
           }
          },
          "scene": {
           "xaxis": {
            "backgroundcolor": "#E5ECF6",
            "gridcolor": "white",
            "gridwidth": 2,
            "linecolor": "white",
            "showbackground": true,
            "ticks": "",
            "zerolinecolor": "white"
           },
           "yaxis": {
            "backgroundcolor": "#E5ECF6",
            "gridcolor": "white",
            "gridwidth": 2,
            "linecolor": "white",
            "showbackground": true,
            "ticks": "",
            "zerolinecolor": "white"
           },
           "zaxis": {
            "backgroundcolor": "#E5ECF6",
            "gridcolor": "white",
            "gridwidth": 2,
            "linecolor": "white",
            "showbackground": true,
            "ticks": "",
            "zerolinecolor": "white"
           }
          },
          "shapedefaults": {
           "line": {
            "color": "#2a3f5f"
           }
          },
          "ternary": {
           "aaxis": {
            "gridcolor": "white",
            "linecolor": "white",
            "ticks": ""
           },
           "baxis": {
            "gridcolor": "white",
            "linecolor": "white",
            "ticks": ""
           },
           "bgcolor": "#E5ECF6",
           "caxis": {
            "gridcolor": "white",
            "linecolor": "white",
            "ticks": ""
           }
          },
          "title": {
           "x": 0.05
          },
          "xaxis": {
           "automargin": true,
           "gridcolor": "white",
           "linecolor": "white",
           "ticks": "",
           "title": {
            "standoff": 15
           },
           "zerolinecolor": "white",
           "zerolinewidth": 2
          },
          "yaxis": {
           "automargin": true,
           "gridcolor": "white",
           "linecolor": "white",
           "ticks": "",
           "title": {
            "standoff": 15
           },
           "zerolinecolor": "white",
           "zerolinewidth": 2
          }
         }
        }
       }
      }
     },
     "metadata": {},
     "output_type": "display_data"
    }
   ],
   "source": [
    "fig = go.Figure()\n",
    "fig.add_trace(go.Scatter(x=df_preds['Date'], y=df_preds['Total_Consumption'],\n",
    "                    mode='lines',\n",
    "                    name='lines'))\n",
    "fig.add_trace(go.Scatter(x=df_preds['Date'], y=df_preds['Predicted_Consumption'],\n",
    "                    mode='lines',\n",
    "                    name='lines'))"
   ]
  },
  {
   "cell_type": "code",
   "execution_count": 54,
   "id": "6b36db4e",
   "metadata": {
    "scrolled": true
   },
   "outputs": [],
   "source": [
    "new_dates = pd.date_range(start='2024/01/01', end='2024/09/30')"
   ]
  },
  {
   "cell_type": "code",
   "execution_count": 55,
   "id": "079fbc3c",
   "metadata": {
    "scrolled": true
   },
   "outputs": [],
   "source": [
    "train = df.Total_Consumption.values\n",
    "\n",
    "my_order = (1, 1, 1)\n",
    "my_seasonal_order = (1, 1, 1, 62)\n",
    "\n",
    "model = sm.tsa.SARIMAX(train, order=my_order, seasonal_order=my_seasonal_order,enforce_stationarity=False,enforce_invertibility=False)\n",
    "model_fit = model.fit()\n",
    "output = model_fit.forecast(62)"
   ]
  },
  {
   "cell_type": "code",
   "execution_count": 56,
   "id": "17a3a4dd",
   "metadata": {},
   "outputs": [],
   "source": [
    "listofzeros = [np.nan] * 62"
   ]
  },
  {
   "cell_type": "code",
   "execution_count": 58,
   "id": "9ba537b1",
   "metadata": {
    "scrolled": true
   },
   "outputs": [],
   "source": [
    "# Ensure new_dates is a list of valid date values\n",
    "new_dates = pd.date_range(start=\"2024-01-01\", periods=len(output), freq='D').tolist()\n",
    "\n",
    "# Ensure listofzeros has the same length as output\n",
    "listofzeros = [0] * len(output)\n",
    "\n",
    "# Ensure output is a list or array of numerical values\n",
    "if isinstance(output, pd.Series):\n",
    "    output = output.tolist()\n",
    "\n",
    "# Create the DataFrame with properly formatted data\n",
    "data_new = {\n",
    "    'Date': new_dates,\n",
    "    'Total_Consumption': listofzeros,\n",
    "    'Predicted_Consumption': output\n",
    "}\n",
    "\n",
    "df_new_preds = pd.DataFrame(data_new)\n"
   ]
  },
  {
   "cell_type": "code",
   "execution_count": 59,
   "id": "756e3759",
   "metadata": {},
   "outputs": [],
   "source": [
    "df_all = pd.concat([df_preds, df_new_preds], ignore_index=True)"
   ]
  },
  {
   "cell_type": "code",
   "execution_count": 60,
   "id": "27b49102",
   "metadata": {},
   "outputs": [
    {
     "data": {
      "text/html": [
       "<div>\n",
       "<style scoped>\n",
       "    .dataframe tbody tr th:only-of-type {\n",
       "        vertical-align: middle;\n",
       "    }\n",
       "\n",
       "    .dataframe tbody tr th {\n",
       "        vertical-align: top;\n",
       "    }\n",
       "\n",
       "    .dataframe thead th {\n",
       "        text-align: right;\n",
       "    }\n",
       "</style>\n",
       "<table border=\"1\" class=\"dataframe\">\n",
       "  <thead>\n",
       "    <tr style=\"text-align: right;\">\n",
       "      <th></th>\n",
       "      <th>Date</th>\n",
       "      <th>Total_Consumption</th>\n",
       "      <th>Predicted_Consumption</th>\n",
       "    </tr>\n",
       "  </thead>\n",
       "  <tbody>\n",
       "    <tr>\n",
       "      <th>0</th>\n",
       "      <td>2023-10-13</td>\n",
       "      <td>23.4</td>\n",
       "      <td>27.115414</td>\n",
       "    </tr>\n",
       "    <tr>\n",
       "      <th>1</th>\n",
       "      <td>2023-10-14</td>\n",
       "      <td>25.8</td>\n",
       "      <td>27.115414</td>\n",
       "    </tr>\n",
       "    <tr>\n",
       "      <th>2</th>\n",
       "      <td>2023-10-15</td>\n",
       "      <td>54.9</td>\n",
       "      <td>27.115414</td>\n",
       "    </tr>\n",
       "    <tr>\n",
       "      <th>3</th>\n",
       "      <td>2023-10-16</td>\n",
       "      <td>24.6</td>\n",
       "      <td>27.115414</td>\n",
       "    </tr>\n",
       "    <tr>\n",
       "      <th>4</th>\n",
       "      <td>2023-10-17</td>\n",
       "      <td>39.9</td>\n",
       "      <td>27.115414</td>\n",
       "    </tr>\n",
       "    <tr>\n",
       "      <th>...</th>\n",
       "      <td>...</td>\n",
       "      <td>...</td>\n",
       "      <td>...</td>\n",
       "    </tr>\n",
       "    <tr>\n",
       "      <th>137</th>\n",
       "      <td>2024-02-27</td>\n",
       "      <td>0.0</td>\n",
       "      <td>6.039189</td>\n",
       "    </tr>\n",
       "    <tr>\n",
       "      <th>138</th>\n",
       "      <td>2024-02-28</td>\n",
       "      <td>0.0</td>\n",
       "      <td>7.245652</td>\n",
       "    </tr>\n",
       "    <tr>\n",
       "      <th>139</th>\n",
       "      <td>2024-02-29</td>\n",
       "      <td>0.0</td>\n",
       "      <td>4.782189</td>\n",
       "    </tr>\n",
       "    <tr>\n",
       "      <th>140</th>\n",
       "      <td>2024-03-01</td>\n",
       "      <td>0.0</td>\n",
       "      <td>7.419251</td>\n",
       "    </tr>\n",
       "    <tr>\n",
       "      <th>141</th>\n",
       "      <td>2024-03-02</td>\n",
       "      <td>0.0</td>\n",
       "      <td>10.483164</td>\n",
       "    </tr>\n",
       "  </tbody>\n",
       "</table>\n",
       "<p>142 rows × 3 columns</p>\n",
       "</div>"
      ],
      "text/plain": [
       "          Date  Total_Consumption  Predicted_Consumption\n",
       "0   2023-10-13               23.4              27.115414\n",
       "1   2023-10-14               25.8              27.115414\n",
       "2   2023-10-15               54.9              27.115414\n",
       "3   2023-10-16               24.6              27.115414\n",
       "4   2023-10-17               39.9              27.115414\n",
       "..         ...                ...                    ...\n",
       "137 2024-02-27                0.0               6.039189\n",
       "138 2024-02-28                0.0               7.245652\n",
       "139 2024-02-29                0.0               4.782189\n",
       "140 2024-03-01                0.0               7.419251\n",
       "141 2024-03-02                0.0              10.483164\n",
       "\n",
       "[142 rows x 3 columns]"
      ]
     },
     "execution_count": 60,
     "metadata": {},
     "output_type": "execute_result"
    }
   ],
   "source": [
    "df_all"
   ]
  },
  {
   "cell_type": "code",
   "execution_count": 61,
   "id": "b74402b6",
   "metadata": {},
   "outputs": [],
   "source": [
    "df_all['MAE'] = df_all['Total_Consumption'] - df_all['Predicted_Consumption']"
   ]
  },
  {
   "cell_type": "markdown",
   "id": "4dcefe75",
   "metadata": {},
   "source": [
    "### Threshold: 5"
   ]
  },
  {
   "cell_type": "code",
   "execution_count": 62,
   "id": "d31a4f30",
   "metadata": {},
   "outputs": [],
   "source": [
    "df_anoms = df_all[df_all['MAE'] >= 5]\n",
    "df_anoms.reset_index(drop=True, inplace=True)"
   ]
  },
  {
   "cell_type": "code",
   "execution_count": 63,
   "id": "53c6bb7d",
   "metadata": {},
   "outputs": [
    {
     "data": {
      "text/html": [
       "<div>\n",
       "<style scoped>\n",
       "    .dataframe tbody tr th:only-of-type {\n",
       "        vertical-align: middle;\n",
       "    }\n",
       "\n",
       "    .dataframe tbody tr th {\n",
       "        vertical-align: top;\n",
       "    }\n",
       "\n",
       "    .dataframe thead th {\n",
       "        text-align: right;\n",
       "    }\n",
       "</style>\n",
       "<table border=\"1\" class=\"dataframe\">\n",
       "  <thead>\n",
       "    <tr style=\"text-align: right;\">\n",
       "      <th></th>\n",
       "      <th>Date</th>\n",
       "      <th>Total_Consumption</th>\n",
       "      <th>Predicted_Consumption</th>\n",
       "      <th>MAE</th>\n",
       "    </tr>\n",
       "  </thead>\n",
       "  <tbody>\n",
       "    <tr>\n",
       "      <th>16</th>\n",
       "      <td>2023-11-29</td>\n",
       "      <td>53.4</td>\n",
       "      <td>27.115414</td>\n",
       "      <td>26.284586</td>\n",
       "    </tr>\n",
       "    <tr>\n",
       "      <th>17</th>\n",
       "      <td>2023-11-30</td>\n",
       "      <td>44.1</td>\n",
       "      <td>27.115414</td>\n",
       "      <td>16.984586</td>\n",
       "    </tr>\n",
       "  </tbody>\n",
       "</table>\n",
       "</div>"
      ],
      "text/plain": [
       "         Date  Total_Consumption  Predicted_Consumption        MAE\n",
       "16 2023-11-29               53.4              27.115414  26.284586\n",
       "17 2023-11-30               44.1              27.115414  16.984586"
      ]
     },
     "execution_count": 63,
     "metadata": {},
     "output_type": "execute_result"
    }
   ],
   "source": [
    "df_anoms.tail(2)"
   ]
  },
  {
   "cell_type": "code",
   "execution_count": 64,
   "id": "cd65ae83",
   "metadata": {},
   "outputs": [],
   "source": [
    "df_anoms['extra_MAE'] = df_anoms['MAE'] - 5"
   ]
  },
  {
   "cell_type": "code",
   "execution_count": 65,
   "id": "e5b4a324",
   "metadata": {},
   "outputs": [],
   "source": [
    "df_anoms['extra_MAE_cost'] = df_anoms['extra_MAE']*9"
   ]
  },
  {
   "cell_type": "code",
   "execution_count": 66,
   "id": "5bfc7df7",
   "metadata": {
    "scrolled": true
   },
   "outputs": [
    {
     "data": {
      "text/plain": [
       "Date\n",
       "10     765.967642\n",
       "11    1731.735283\n",
       "Name: extra_MAE_cost, dtype: float64"
      ]
     },
     "execution_count": 66,
     "metadata": {},
     "output_type": "execute_result"
    }
   ],
   "source": [
    "df_anoms.groupby(df_anoms['Date'].dt.month)['extra_MAE_cost'].sum()"
   ]
  },
  {
   "cell_type": "code",
   "execution_count": 67,
   "id": "0ae1df75",
   "metadata": {},
   "outputs": [
    {
     "data": {
      "text/plain": [
       "0       0.0\n",
       "1       0.0\n",
       "2       0.0\n",
       "3    3960.6\n",
       "4    6951.0\n",
       "5    2346.4\n",
       "Name: Total_Consumption, dtype: float64"
      ]
     },
     "execution_count": 67,
     "metadata": {},
     "output_type": "execute_result"
    }
   ],
   "source": [
    "df_all.groupby(df_all['Date'].dt.month)['Total_Consumption'].sum().reset_index()['Total_Consumption']*7"
   ]
  },
  {
   "cell_type": "code",
   "execution_count": 68,
   "id": "e1249ac0",
   "metadata": {
    "scrolled": true
   },
   "outputs": [
    {
     "data": {
      "text/plain": [
       "0.0782608695652174"
      ]
     },
     "execution_count": 68,
     "metadata": {},
     "output_type": "execute_result"
    }
   ],
   "source": [
    "180/2300 # 8-15%"
   ]
  },
  {
   "cell_type": "markdown",
   "id": "315749b2",
   "metadata": {},
   "source": [
    "### Threshold: 10"
   ]
  },
  {
   "cell_type": "code",
   "execution_count": 69,
   "id": "4bffc89d",
   "metadata": {},
   "outputs": [],
   "source": [
    "df_anoms = df_all[df_all['MAE'] >= 10]\n",
    "df_anoms.reset_index(drop=True, inplace=True)"
   ]
  },
  {
   "cell_type": "code",
   "execution_count": 70,
   "id": "d229190b",
   "metadata": {},
   "outputs": [
    {
     "data": {
      "text/html": [
       "<div>\n",
       "<style scoped>\n",
       "    .dataframe tbody tr th:only-of-type {\n",
       "        vertical-align: middle;\n",
       "    }\n",
       "\n",
       "    .dataframe tbody tr th {\n",
       "        vertical-align: top;\n",
       "    }\n",
       "\n",
       "    .dataframe thead th {\n",
       "        text-align: right;\n",
       "    }\n",
       "</style>\n",
       "<table border=\"1\" class=\"dataframe\">\n",
       "  <thead>\n",
       "    <tr style=\"text-align: right;\">\n",
       "      <th></th>\n",
       "      <th>Date</th>\n",
       "      <th>Total_Consumption</th>\n",
       "      <th>Predicted_Consumption</th>\n",
       "      <th>MAE</th>\n",
       "    </tr>\n",
       "  </thead>\n",
       "  <tbody>\n",
       "    <tr>\n",
       "      <th>14</th>\n",
       "      <td>2023-11-29</td>\n",
       "      <td>53.4</td>\n",
       "      <td>27.115414</td>\n",
       "      <td>26.284586</td>\n",
       "    </tr>\n",
       "    <tr>\n",
       "      <th>15</th>\n",
       "      <td>2023-11-30</td>\n",
       "      <td>44.1</td>\n",
       "      <td>27.115414</td>\n",
       "      <td>16.984586</td>\n",
       "    </tr>\n",
       "  </tbody>\n",
       "</table>\n",
       "</div>"
      ],
      "text/plain": [
       "         Date  Total_Consumption  Predicted_Consumption        MAE\n",
       "14 2023-11-29               53.4              27.115414  26.284586\n",
       "15 2023-11-30               44.1              27.115414  16.984586"
      ]
     },
     "execution_count": 70,
     "metadata": {},
     "output_type": "execute_result"
    }
   ],
   "source": [
    "df_anoms.tail(2)"
   ]
  },
  {
   "cell_type": "code",
   "execution_count": 71,
   "id": "ce5a4554",
   "metadata": {},
   "outputs": [],
   "source": [
    "df_anoms['extra_MAE'] = df_anoms['MAE'] - 10"
   ]
  },
  {
   "cell_type": "code",
   "execution_count": 72,
   "id": "29619895",
   "metadata": {},
   "outputs": [],
   "source": [
    "df_anoms['extra_MAE_cost'] = df_anoms['extra_MAE']*9"
   ]
  },
  {
   "cell_type": "code",
   "execution_count": 73,
   "id": "d2ee2734",
   "metadata": {
    "scrolled": true
   },
   "outputs": [
    {
     "data": {
      "text/plain": [
       "Date\n",
       "10     506.006368\n",
       "11    1215.274010\n",
       "Name: extra_MAE_cost, dtype: float64"
      ]
     },
     "execution_count": 73,
     "metadata": {},
     "output_type": "execute_result"
    }
   ],
   "source": [
    "df_anoms.groupby(df_anoms['Date'].dt.month)['extra_MAE_cost'].sum()"
   ]
  },
  {
   "cell_type": "code",
   "execution_count": 74,
   "id": "8be3c21d",
   "metadata": {},
   "outputs": [
    {
     "data": {
      "text/plain": [
       "0       0.0\n",
       "1       0.0\n",
       "2       0.0\n",
       "3    3960.6\n",
       "4    6951.0\n",
       "5    2346.4\n",
       "Name: Total_Consumption, dtype: float64"
      ]
     },
     "execution_count": 74,
     "metadata": {},
     "output_type": "execute_result"
    }
   ],
   "source": [
    "df_all.groupby(df_all['Date'].dt.month)['Total_Consumption'].sum().reset_index()['Total_Consumption']*7"
   ]
  },
  {
   "cell_type": "code",
   "execution_count": 75,
   "id": "76253832",
   "metadata": {},
   "outputs": [
    {
     "data": {
      "text/plain": [
       "0.0719927781539156"
      ]
     },
     "execution_count": 75,
     "metadata": {},
     "output_type": "execute_result"
    }
   ],
   "source": [
    "638/8862 # 8-15%"
   ]
  },
  {
   "cell_type": "markdown",
   "id": "0abb38f9",
   "metadata": {},
   "source": [
    "### Threshold: 12"
   ]
  },
  {
   "cell_type": "code",
   "execution_count": 76,
   "id": "5a2e78d3",
   "metadata": {},
   "outputs": [],
   "source": [
    "df_anoms = df_all[df_all['MAE'] >= 12]\n",
    "df_anoms.reset_index(drop=True, inplace=True)"
   ]
  },
  {
   "cell_type": "code",
   "execution_count": 77,
   "id": "68c63829",
   "metadata": {},
   "outputs": [
    {
     "data": {
      "text/html": [
       "<div>\n",
       "<style scoped>\n",
       "    .dataframe tbody tr th:only-of-type {\n",
       "        vertical-align: middle;\n",
       "    }\n",
       "\n",
       "    .dataframe tbody tr th {\n",
       "        vertical-align: top;\n",
       "    }\n",
       "\n",
       "    .dataframe thead th {\n",
       "        text-align: right;\n",
       "    }\n",
       "</style>\n",
       "<table border=\"1\" class=\"dataframe\">\n",
       "  <thead>\n",
       "    <tr style=\"text-align: right;\">\n",
       "      <th></th>\n",
       "      <th>Date</th>\n",
       "      <th>Total_Consumption</th>\n",
       "      <th>Predicted_Consumption</th>\n",
       "      <th>MAE</th>\n",
       "    </tr>\n",
       "  </thead>\n",
       "  <tbody>\n",
       "    <tr>\n",
       "      <th>11</th>\n",
       "      <td>2023-11-29</td>\n",
       "      <td>53.4</td>\n",
       "      <td>27.115414</td>\n",
       "      <td>26.284586</td>\n",
       "    </tr>\n",
       "    <tr>\n",
       "      <th>12</th>\n",
       "      <td>2023-11-30</td>\n",
       "      <td>44.1</td>\n",
       "      <td>27.115414</td>\n",
       "      <td>16.984586</td>\n",
       "    </tr>\n",
       "  </tbody>\n",
       "</table>\n",
       "</div>"
      ],
      "text/plain": [
       "         Date  Total_Consumption  Predicted_Consumption        MAE\n",
       "11 2023-11-29               53.4              27.115414  26.284586\n",
       "12 2023-11-30               44.1              27.115414  16.984586"
      ]
     },
     "execution_count": 77,
     "metadata": {},
     "output_type": "execute_result"
    }
   ],
   "source": [
    "df_anoms.tail(2)"
   ]
  },
  {
   "cell_type": "code",
   "execution_count": 78,
   "id": "43a1b2d6",
   "metadata": {},
   "outputs": [],
   "source": [
    "df_anoms['extra_MAE'] = df_anoms['MAE'] - 12"
   ]
  },
  {
   "cell_type": "code",
   "execution_count": 79,
   "id": "3b554a9d",
   "metadata": {},
   "outputs": [],
   "source": [
    "df_anoms['extra_MAE_cost'] = df_anoms['extra_MAE']*9"
   ]
  },
  {
   "cell_type": "code",
   "execution_count": 80,
   "id": "9620967d",
   "metadata": {
    "scrolled": true
   },
   "outputs": [
    {
     "data": {
      "text/plain": [
       "Date\n",
       "10     433.245094\n",
       "11    1038.251462\n",
       "Name: extra_MAE_cost, dtype: float64"
      ]
     },
     "execution_count": 80,
     "metadata": {},
     "output_type": "execute_result"
    }
   ],
   "source": [
    "df_anoms.groupby(df_anoms['Date'].dt.month)['extra_MAE_cost'].sum()"
   ]
  },
  {
   "cell_type": "code",
   "execution_count": 81,
   "id": "3f20583b",
   "metadata": {},
   "outputs": [
    {
     "data": {
      "text/plain": [
       "0       0.0\n",
       "1       0.0\n",
       "2       0.0\n",
       "3    3960.6\n",
       "4    6951.0\n",
       "5    2346.4\n",
       "Name: Total_Consumption, dtype: float64"
      ]
     },
     "execution_count": 81,
     "metadata": {},
     "output_type": "execute_result"
    }
   ],
   "source": [
    "df_all.groupby(df_all['Date'].dt.month)['Total_Consumption'].sum().reset_index()['Total_Consumption']*7"
   ]
  },
  {
   "cell_type": "code",
   "execution_count": 82,
   "id": "c797707a",
   "metadata": {},
   "outputs": [
    {
     "data": {
      "text/plain": [
       "0.0782608695652174"
      ]
     },
     "execution_count": 82,
     "metadata": {},
     "output_type": "execute_result"
    }
   ],
   "source": [
    "180/2300 # 8-15%"
   ]
  },
  {
   "cell_type": "code",
   "execution_count": 83,
   "id": "7d42c154",
   "metadata": {},
   "outputs": [
    {
     "data": {
      "text/plain": [
       "Index(['Date', 'Total_Consumption', 'Predicted_Consumption', 'MAE'], dtype='object')"
      ]
     },
     "execution_count": 83,
     "metadata": {},
     "output_type": "execute_result"
    }
   ],
   "source": [
    "df_all.columns"
   ]
  },
  {
   "cell_type": "code",
   "execution_count": 84,
   "id": "69fbaeeb",
   "metadata": {},
   "outputs": [],
   "source": [
    "ved = pd.DataFrame(columns=['Date', 'Total_Consumption', 'Predicted_Consumption', 'MAE'])\n",
    "for i in range(len(df_all['Date'])):\n",
    "    ved.loc[i,'Date'] = df_all.loc[i,'Date']\n",
    "    ved.loc[i,'Total_Consumption'] = df_all.loc[i,'Total_Consumption']\n",
    "    ved.loc[i,'Predicted_Consumption'] = df_all.loc[i,'Predicted_Consumption']\n",
    "    ved.loc[i,'MAE'] = df_all.loc[i,'MAE']\n",
    "\n",
    "ved.to_csv('full_pred.csv', index=False) \n"
   ]
  }
 ],
 "metadata": {
  "kernelspec": {
   "display_name": "Python 3",
   "language": "python",
   "name": "python3"
  },
  "language_info": {
   "codemirror_mode": {
    "name": "ipython",
    "version": 3
   },
   "file_extension": ".py",
   "mimetype": "text/x-python",
   "name": "python",
   "nbconvert_exporter": "python",
   "pygments_lexer": "ipython3",
   "version": "3.11.9"
  }
 },
 "nbformat": 4,
 "nbformat_minor": 5
}
