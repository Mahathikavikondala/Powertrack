{
 "cells": [
  {
   "cell_type": "code",
   "execution_count": 1,
   "metadata": {},
   "outputs": [],
   "source": [
    "import pandas as pd\n",
    "import numpy as np\n",
    "import warnings\n",
    "warnings.filterwarnings('ignore')"
   ]
  },
  {
   "cell_type": "code",
   "execution_count": 2,
   "metadata": {},
   "outputs": [],
   "source": [
    "df = pd.read_csv(r'C:\\Users\\mahat\\OneDrive\\Desktop\\Optimizing-Household-Electricity-through-Machine-Learning-main\\Datasets\\final_electricity_data.csv')\n",
    "df['Date'] = pd.to_datetime(df['Date'])\n",
    "df = df[df['Date'].dt.year == 2022]\n",
    "df.reset_index(drop=True, inplace=True)"
   ]
  },
  {
   "cell_type": "code",
   "execution_count": 3,
   "metadata": {},
   "outputs": [
    {
     "data": {
      "text/html": [
       "<div>\n",
       "<style scoped>\n",
       "    .dataframe tbody tr th:only-of-type {\n",
       "        vertical-align: middle;\n",
       "    }\n",
       "\n",
       "    .dataframe tbody tr th {\n",
       "        vertical-align: top;\n",
       "    }\n",
       "\n",
       "    .dataframe thead th {\n",
       "        text-align: right;\n",
       "    }\n",
       "</style>\n",
       "<table border=\"1\" class=\"dataframe\">\n",
       "  <thead>\n",
       "    <tr style=\"text-align: right;\">\n",
       "      <th></th>\n",
       "      <th>Date</th>\n",
       "      <th>Total_Consumption</th>\n",
       "    </tr>\n",
       "  </thead>\n",
       "  <tbody>\n",
       "    <tr>\n",
       "      <th>0</th>\n",
       "      <td>2022-01-01</td>\n",
       "      <td>11.8</td>\n",
       "    </tr>\n",
       "    <tr>\n",
       "      <th>1</th>\n",
       "      <td>2022-01-02</td>\n",
       "      <td>9.2</td>\n",
       "    </tr>\n",
       "    <tr>\n",
       "      <th>2</th>\n",
       "      <td>2022-01-03</td>\n",
       "      <td>2.5</td>\n",
       "    </tr>\n",
       "    <tr>\n",
       "      <th>3</th>\n",
       "      <td>2022-01-04</td>\n",
       "      <td>21.8</td>\n",
       "    </tr>\n",
       "    <tr>\n",
       "      <th>4</th>\n",
       "      <td>2022-01-05</td>\n",
       "      <td>12.3</td>\n",
       "    </tr>\n",
       "    <tr>\n",
       "      <th>...</th>\n",
       "      <td>...</td>\n",
       "      <td>...</td>\n",
       "    </tr>\n",
       "    <tr>\n",
       "      <th>359</th>\n",
       "      <td>2022-12-27</td>\n",
       "      <td>16.3</td>\n",
       "    </tr>\n",
       "    <tr>\n",
       "      <th>360</th>\n",
       "      <td>2022-12-28</td>\n",
       "      <td>23.5</td>\n",
       "    </tr>\n",
       "    <tr>\n",
       "      <th>361</th>\n",
       "      <td>2022-12-29</td>\n",
       "      <td>21.0</td>\n",
       "    </tr>\n",
       "    <tr>\n",
       "      <th>362</th>\n",
       "      <td>2022-12-30</td>\n",
       "      <td>17.9</td>\n",
       "    </tr>\n",
       "    <tr>\n",
       "      <th>363</th>\n",
       "      <td>2022-12-31</td>\n",
       "      <td>12.8</td>\n",
       "    </tr>\n",
       "  </tbody>\n",
       "</table>\n",
       "<p>364 rows × 2 columns</p>\n",
       "</div>"
      ],
      "text/plain": [
       "          Date  Total_Consumption\n",
       "0   2022-01-01               11.8\n",
       "1   2022-01-02                9.2\n",
       "2   2022-01-03                2.5\n",
       "3   2022-01-04               21.8\n",
       "4   2022-01-05               12.3\n",
       "..         ...                ...\n",
       "359 2022-12-27               16.3\n",
       "360 2022-12-28               23.5\n",
       "361 2022-12-29               21.0\n",
       "362 2022-12-30               17.9\n",
       "363 2022-12-31               12.8\n",
       "\n",
       "[364 rows x 2 columns]"
      ]
     },
     "execution_count": 3,
     "metadata": {},
     "output_type": "execute_result"
    }
   ],
   "source": [
    "df"
   ]
  },
  {
   "cell_type": "code",
   "execution_count": 4,
   "metadata": {},
   "outputs": [
    {
     "data": {
      "text/html": [
       "<div>\n",
       "<style scoped>\n",
       "    .dataframe tbody tr th:only-of-type {\n",
       "        vertical-align: middle;\n",
       "    }\n",
       "\n",
       "    .dataframe tbody tr th {\n",
       "        vertical-align: top;\n",
       "    }\n",
       "\n",
       "    .dataframe thead th {\n",
       "        text-align: right;\n",
       "    }\n",
       "</style>\n",
       "<table border=\"1\" class=\"dataframe\">\n",
       "  <thead>\n",
       "    <tr style=\"text-align: right;\">\n",
       "      <th></th>\n",
       "      <th>Date</th>\n",
       "      <th>Total_Consumption</th>\n",
       "    </tr>\n",
       "  </thead>\n",
       "  <tbody>\n",
       "    <tr>\n",
       "      <th>359</th>\n",
       "      <td>2022-12-27</td>\n",
       "      <td>16.3</td>\n",
       "    </tr>\n",
       "    <tr>\n",
       "      <th>360</th>\n",
       "      <td>2022-12-28</td>\n",
       "      <td>23.5</td>\n",
       "    </tr>\n",
       "    <tr>\n",
       "      <th>361</th>\n",
       "      <td>2022-12-29</td>\n",
       "      <td>21.0</td>\n",
       "    </tr>\n",
       "    <tr>\n",
       "      <th>362</th>\n",
       "      <td>2022-12-30</td>\n",
       "      <td>17.9</td>\n",
       "    </tr>\n",
       "    <tr>\n",
       "      <th>363</th>\n",
       "      <td>2022-12-31</td>\n",
       "      <td>12.8</td>\n",
       "    </tr>\n",
       "  </tbody>\n",
       "</table>\n",
       "</div>"
      ],
      "text/plain": [
       "          Date  Total_Consumption\n",
       "359 2022-12-27               16.3\n",
       "360 2022-12-28               23.5\n",
       "361 2022-12-29               21.0\n",
       "362 2022-12-30               17.9\n",
       "363 2022-12-31               12.8"
      ]
     },
     "execution_count": 4,
     "metadata": {},
     "output_type": "execute_result"
    }
   ],
   "source": [
    "df.tail()"
   ]
  },
  {
   "cell_type": "code",
   "execution_count": 5,
   "metadata": {},
   "outputs": [
    {
     "data": {
      "text/plain": [
       "(364, 2)"
      ]
     },
     "execution_count": 5,
     "metadata": {},
     "output_type": "execute_result"
    }
   ],
   "source": [
    "df.shape"
   ]
  },
  {
   "cell_type": "code",
   "execution_count": 6,
   "metadata": {},
   "outputs": [],
   "source": [
    "import math\n",
    "import statsmodels.api as sm\n",
    "import statsmodels.tsa.api as smt\n",
    "# from sklearn.metrics import mean_squared_error\n",
    "from matplotlib import pyplot\n",
    "import matplotlib.pyplot as plt\n",
    "\n",
    "actual_vals = df.Total_Consumption.values\n",
    "actual_log = np.log10(actual_vals)\n",
    "\n",
    "train, test = actual_vals[0:-80], actual_vals[-80:]\n",
    "train_log, test_log = np.log10(train), np.log10(test)\n",
    "my_order = (1, 1, 1)\n",
    "my_seasonal_order = (1, 1, 1, 7)"
   ]
  },
  {
   "cell_type": "code",
   "execution_count": 7,
   "metadata": {},
   "outputs": [],
   "source": [
    "history = [x for x in train_log]\n",
    "predictions = list()\n",
    "predict_log=list()\n",
    "for t in range(len(test_log)):\n",
    "    model = sm.tsa.SARIMAX(history, order=my_order, seasonal_order=my_seasonal_order,enforce_stationarity=False,enforce_invertibility=False)\n",
    "    model_fit = model.fit(disp=0)\n",
    "    output = model_fit.forecast()\n",
    "    predict_log.append(output[0])\n",
    "    yhat = 10**output[0]\n",
    "    predictions.append(yhat)\n",
    "    # obs = test_log[t]\n",
    "    # history.append(obs)\n",
    "   # print('predicted=%f, expected=%f' % (output[0], obs))\n",
    "#error = math.sqrt(mean_squared_error(test_log, predict_log))\n",
    "#print('Test rmse: %.3f' % error)\n",
    "# plot\n",
    "# figsize=(12, 7)\n",
    "# plt.figure(figsize=figsize)\n",
    "# pyplot.plot(test,label='Actuals')\n",
    "# pyplot.plot(predictions, color='red',label='Predicted')\n",
    "# pyplot.legend(loc='upper right')\n",
    "# pyplot.show()"
   ]
  },
  {
   "cell_type": "code",
   "execution_count": 8,
   "metadata": {},
   "outputs": [],
   "source": [
    "import pickle \n",
    "with open('module.pkl','wb') as f:\n",
    "    pickle.dump(model_fit,f)"
   ]
  },
  {
   "cell_type": "code",
   "execution_count": 9,
   "metadata": {},
   "outputs": [
    {
     "data": {
      "text/html": [
       "<div>\n",
       "<style scoped>\n",
       "    .dataframe tbody tr th:only-of-type {\n",
       "        vertical-align: middle;\n",
       "    }\n",
       "\n",
       "    .dataframe tbody tr th {\n",
       "        vertical-align: top;\n",
       "    }\n",
       "\n",
       "    .dataframe thead th {\n",
       "        text-align: right;\n",
       "    }\n",
       "</style>\n",
       "<table border=\"1\" class=\"dataframe\">\n",
       "  <thead>\n",
       "    <tr style=\"text-align: right;\">\n",
       "      <th></th>\n",
       "      <th>Date</th>\n",
       "      <th>Total_Consumption</th>\n",
       "      <th>Predicted_Consumption</th>\n",
       "    </tr>\n",
       "  </thead>\n",
       "  <tbody>\n",
       "    <tr>\n",
       "      <th>284</th>\n",
       "      <td>2022-10-13</td>\n",
       "      <td>39.3</td>\n",
       "      <td>28.707322</td>\n",
       "    </tr>\n",
       "    <tr>\n",
       "      <th>285</th>\n",
       "      <td>2022-10-14</td>\n",
       "      <td>57.9</td>\n",
       "      <td>28.707322</td>\n",
       "    </tr>\n",
       "    <tr>\n",
       "      <th>286</th>\n",
       "      <td>2022-10-15</td>\n",
       "      <td>20.7</td>\n",
       "      <td>28.707322</td>\n",
       "    </tr>\n",
       "    <tr>\n",
       "      <th>287</th>\n",
       "      <td>2022-10-16</td>\n",
       "      <td>49.2</td>\n",
       "      <td>28.707322</td>\n",
       "    </tr>\n",
       "    <tr>\n",
       "      <th>288</th>\n",
       "      <td>2022-10-17</td>\n",
       "      <td>24.9</td>\n",
       "      <td>28.707322</td>\n",
       "    </tr>\n",
       "    <tr>\n",
       "      <th>...</th>\n",
       "      <td>...</td>\n",
       "      <td>...</td>\n",
       "      <td>...</td>\n",
       "    </tr>\n",
       "    <tr>\n",
       "      <th>359</th>\n",
       "      <td>2022-12-27</td>\n",
       "      <td>16.3</td>\n",
       "      <td>28.707322</td>\n",
       "    </tr>\n",
       "    <tr>\n",
       "      <th>360</th>\n",
       "      <td>2022-12-28</td>\n",
       "      <td>23.5</td>\n",
       "      <td>28.707322</td>\n",
       "    </tr>\n",
       "    <tr>\n",
       "      <th>361</th>\n",
       "      <td>2022-12-29</td>\n",
       "      <td>21.0</td>\n",
       "      <td>28.707322</td>\n",
       "    </tr>\n",
       "    <tr>\n",
       "      <th>362</th>\n",
       "      <td>2022-12-30</td>\n",
       "      <td>17.9</td>\n",
       "      <td>28.707322</td>\n",
       "    </tr>\n",
       "    <tr>\n",
       "      <th>363</th>\n",
       "      <td>2022-12-31</td>\n",
       "      <td>12.8</td>\n",
       "      <td>28.707322</td>\n",
       "    </tr>\n",
       "  </tbody>\n",
       "</table>\n",
       "<p>80 rows × 3 columns</p>\n",
       "</div>"
      ],
      "text/plain": [
       "          Date  Total_Consumption  Predicted_Consumption\n",
       "284 2022-10-13               39.3              28.707322\n",
       "285 2022-10-14               57.9              28.707322\n",
       "286 2022-10-15               20.7              28.707322\n",
       "287 2022-10-16               49.2              28.707322\n",
       "288 2022-10-17               24.9              28.707322\n",
       "..         ...                ...                    ...\n",
       "359 2022-12-27               16.3              28.707322\n",
       "360 2022-12-28               23.5              28.707322\n",
       "361 2022-12-29               21.0              28.707322\n",
       "362 2022-12-30               17.9              28.707322\n",
       "363 2022-12-31               12.8              28.707322\n",
       "\n",
       "[80 rows x 3 columns]"
      ]
     },
     "execution_count": 9,
     "metadata": {},
     "output_type": "execute_result"
    }
   ],
   "source": [
    "df_preds = df[-80:]\n",
    "df_preds['Predicted_Consumption'] = predictions\n",
    "df_preds"
   ]
  },
  {
   "cell_type": "code",
   "execution_count": 10,
   "metadata": {},
   "outputs": [],
   "source": [
    "import plotly.graph_objects as go\n",
    "import plotly.offline as py"
   ]
  },
  {
   "cell_type": "code",
   "execution_count": 11,
   "metadata": {},
   "outputs": [
    {
     "data": {
      "application/vnd.plotly.v1+json": {
       "config": {
        "plotlyServerURL": "https://plot.ly"
       },
       "data": [
        {
         "mode": "lines",
         "name": "lines",
         "type": "scatter",
         "x": [
          "2022-10-13T00:00:00.000000000",
          "2022-10-14T00:00:00.000000000",
          "2022-10-15T00:00:00.000000000",
          "2022-10-16T00:00:00.000000000",
          "2022-10-17T00:00:00.000000000",
          "2022-10-18T00:00:00.000000000",
          "2022-10-19T00:00:00.000000000",
          "2022-10-20T00:00:00.000000000",
          "2022-10-21T00:00:00.000000000",
          "2022-10-22T00:00:00.000000000",
          "2022-10-23T00:00:00.000000000",
          "2022-10-24T00:00:00.000000000",
          "2022-10-25T00:00:00.000000000",
          "2022-10-26T00:00:00.000000000",
          "2022-10-27T00:00:00.000000000",
          "2022-10-28T00:00:00.000000000",
          "2022-10-29T00:00:00.000000000",
          "2022-10-30T00:00:00.000000000",
          "2022-10-31T00:00:00.000000000",
          "2022-11-01T00:00:00.000000000",
          "2022-11-02T00:00:00.000000000",
          "2022-11-03T00:00:00.000000000",
          "2022-11-04T00:00:00.000000000",
          "2022-11-05T00:00:00.000000000",
          "2022-11-06T00:00:00.000000000",
          "2022-11-07T00:00:00.000000000",
          "2022-11-08T00:00:00.000000000",
          "2022-11-09T00:00:00.000000000",
          "2022-11-10T00:00:00.000000000",
          "2022-11-11T00:00:00.000000000",
          "2022-11-12T00:00:00.000000000",
          "2022-11-13T00:00:00.000000000",
          "2022-11-14T00:00:00.000000000",
          "2022-11-15T00:00:00.000000000",
          "2022-11-16T00:00:00.000000000",
          "2022-11-17T00:00:00.000000000",
          "2022-11-18T00:00:00.000000000",
          "2022-11-19T00:00:00.000000000",
          "2022-11-20T00:00:00.000000000",
          "2022-11-21T00:00:00.000000000",
          "2022-11-22T00:00:00.000000000",
          "2022-11-23T00:00:00.000000000",
          "2022-11-24T00:00:00.000000000",
          "2022-11-25T00:00:00.000000000",
          "2022-11-26T00:00:00.000000000",
          "2022-11-27T00:00:00.000000000",
          "2022-11-28T00:00:00.000000000",
          "2022-11-29T00:00:00.000000000",
          "2022-11-30T00:00:00.000000000",
          "2022-12-01T00:00:00.000000000",
          "2022-12-02T00:00:00.000000000",
          "2022-12-03T00:00:00.000000000",
          "2022-12-04T00:00:00.000000000",
          "2022-12-05T00:00:00.000000000",
          "2022-12-06T00:00:00.000000000",
          "2022-12-07T00:00:00.000000000",
          "2022-12-08T00:00:00.000000000",
          "2022-12-09T00:00:00.000000000",
          "2022-12-10T00:00:00.000000000",
          "2022-12-11T00:00:00.000000000",
          "2022-12-12T00:00:00.000000000",
          "2022-12-13T00:00:00.000000000",
          "2022-12-14T00:00:00.000000000",
          "2022-12-15T00:00:00.000000000",
          "2022-12-16T00:00:00.000000000",
          "2022-12-17T00:00:00.000000000",
          "2022-12-18T00:00:00.000000000",
          "2022-12-19T00:00:00.000000000",
          "2022-12-20T00:00:00.000000000",
          "2022-12-21T00:00:00.000000000",
          "2022-12-22T00:00:00.000000000",
          "2022-12-23T00:00:00.000000000",
          "2022-12-24T00:00:00.000000000",
          "2022-12-25T00:00:00.000000000",
          "2022-12-26T00:00:00.000000000",
          "2022-12-27T00:00:00.000000000",
          "2022-12-28T00:00:00.000000000",
          "2022-12-29T00:00:00.000000000",
          "2022-12-30T00:00:00.000000000",
          "2022-12-31T00:00:00.000000000"
         ],
         "y": {
          "bdata": "ZmZmZmamQ0A0MzMzM/NMQDQzMzMzszRAmpmZmZmZSEBmZmZmZuY4QAAAAAAAADhANDMzMzPzQ0CamZmZmRk9QJqZmZmZmUhAZmZmZmbmNUBmZmZmZuZFQJqZmZmZWUNANDMzMzOzQUCamZmZmRk0QAAAAAAAAEVAAAAAAAAAHkA0MzMzMzMfQDQzMzMzMzBAmpmZmZmZPkBmZmZmZqZDQMzMzMzMzFBAmpmZmZkZUUBmZmZmZmYtQGZmZmZmZjFAAAAAAAAAKEDNzMzMzMwsQGZmZmZmZjRAmpmZmZkZMUA0MzMzMzM/QMzMzMzMjEFAAAAAAADARUDNzMzMzMxGQDQzMzMzsz1AAAAAAACAOUA0MzMzM3NIQM3MzMzMjEdAmpmZmZmZSEDNzMzMzMw5QM3MzMzMjERAAAAAAAAAO0A0MzMzM/NAQJqZmZmZWUxAZmZmZmZmRECamZmZmRk9QAAAAAAAADhAmpmZmZnZUUBmZmZmZmY6QAAAAAAAgDxAzczMzMyMSkBmZmZmZmYaQDMzMzMzMyVAAAAAAAAAKUBmZmZmZmYGQDMzMzMzMyNAAAAAAAAAGkBmZmZmZmYgQM3MzMzMzB5AmpmZmZmZIUBmZmZmZmYsQGZmZmZmZixAAAAAAAAAIEDNzMzMzMwkQDMzMzMzMypAZmZmZmbmMEAzMzMzMzMxQJqZmZmZmSJAZmZmZmbmMUAAAAAAAAAqQGZmZmZmZiRAMzMzMzMzI0DNzMzMzEwzQDMzMzMzMy5AZmZmZmZmLUAzMzMzMzMzQDMzMzMzMy1AzczMzMxMMEAAAAAAAIA3QAAAAAAAADVAZmZmZmbmMUCamZmZmZkpQA==",
          "dtype": "f8"
         }
        },
        {
         "mode": "lines",
         "name": "lines",
         "type": "scatter",
         "x": [
          "2022-10-13T00:00:00.000000000",
          "2022-10-14T00:00:00.000000000",
          "2022-10-15T00:00:00.000000000",
          "2022-10-16T00:00:00.000000000",
          "2022-10-17T00:00:00.000000000",
          "2022-10-18T00:00:00.000000000",
          "2022-10-19T00:00:00.000000000",
          "2022-10-20T00:00:00.000000000",
          "2022-10-21T00:00:00.000000000",
          "2022-10-22T00:00:00.000000000",
          "2022-10-23T00:00:00.000000000",
          "2022-10-24T00:00:00.000000000",
          "2022-10-25T00:00:00.000000000",
          "2022-10-26T00:00:00.000000000",
          "2022-10-27T00:00:00.000000000",
          "2022-10-28T00:00:00.000000000",
          "2022-10-29T00:00:00.000000000",
          "2022-10-30T00:00:00.000000000",
          "2022-10-31T00:00:00.000000000",
          "2022-11-01T00:00:00.000000000",
          "2022-11-02T00:00:00.000000000",
          "2022-11-03T00:00:00.000000000",
          "2022-11-04T00:00:00.000000000",
          "2022-11-05T00:00:00.000000000",
          "2022-11-06T00:00:00.000000000",
          "2022-11-07T00:00:00.000000000",
          "2022-11-08T00:00:00.000000000",
          "2022-11-09T00:00:00.000000000",
          "2022-11-10T00:00:00.000000000",
          "2022-11-11T00:00:00.000000000",
          "2022-11-12T00:00:00.000000000",
          "2022-11-13T00:00:00.000000000",
          "2022-11-14T00:00:00.000000000",
          "2022-11-15T00:00:00.000000000",
          "2022-11-16T00:00:00.000000000",
          "2022-11-17T00:00:00.000000000",
          "2022-11-18T00:00:00.000000000",
          "2022-11-19T00:00:00.000000000",
          "2022-11-20T00:00:00.000000000",
          "2022-11-21T00:00:00.000000000",
          "2022-11-22T00:00:00.000000000",
          "2022-11-23T00:00:00.000000000",
          "2022-11-24T00:00:00.000000000",
          "2022-11-25T00:00:00.000000000",
          "2022-11-26T00:00:00.000000000",
          "2022-11-27T00:00:00.000000000",
          "2022-11-28T00:00:00.000000000",
          "2022-11-29T00:00:00.000000000",
          "2022-11-30T00:00:00.000000000",
          "2022-12-01T00:00:00.000000000",
          "2022-12-02T00:00:00.000000000",
          "2022-12-03T00:00:00.000000000",
          "2022-12-04T00:00:00.000000000",
          "2022-12-05T00:00:00.000000000",
          "2022-12-06T00:00:00.000000000",
          "2022-12-07T00:00:00.000000000",
          "2022-12-08T00:00:00.000000000",
          "2022-12-09T00:00:00.000000000",
          "2022-12-10T00:00:00.000000000",
          "2022-12-11T00:00:00.000000000",
          "2022-12-12T00:00:00.000000000",
          "2022-12-13T00:00:00.000000000",
          "2022-12-14T00:00:00.000000000",
          "2022-12-15T00:00:00.000000000",
          "2022-12-16T00:00:00.000000000",
          "2022-12-17T00:00:00.000000000",
          "2022-12-18T00:00:00.000000000",
          "2022-12-19T00:00:00.000000000",
          "2022-12-20T00:00:00.000000000",
          "2022-12-21T00:00:00.000000000",
          "2022-12-22T00:00:00.000000000",
          "2022-12-23T00:00:00.000000000",
          "2022-12-24T00:00:00.000000000",
          "2022-12-25T00:00:00.000000000",
          "2022-12-26T00:00:00.000000000",
          "2022-12-27T00:00:00.000000000",
          "2022-12-28T00:00:00.000000000",
          "2022-12-29T00:00:00.000000000",
          "2022-12-30T00:00:00.000000000",
          "2022-12-31T00:00:00.000000000"
         ],
         "y": {
          "bdata": "nSBnERO1PECdIGcRE7U8QJ0gZxETtTxAnSBnERO1PECdIGcRE7U8QJ0gZxETtTxAnSBnERO1PECdIGcRE7U8QJ0gZxETtTxAnSBnERO1PECdIGcRE7U8QJ0gZxETtTxAnSBnERO1PECdIGcRE7U8QJ0gZxETtTxAnSBnERO1PECdIGcRE7U8QJ0gZxETtTxAnSBnERO1PECdIGcRE7U8QJ0gZxETtTxAnSBnERO1PECdIGcRE7U8QJ0gZxETtTxAnSBnERO1PECdIGcRE7U8QJ0gZxETtTxAnSBnERO1PECdIGcRE7U8QJ0gZxETtTxAnSBnERO1PECdIGcRE7U8QJ0gZxETtTxAnSBnERO1PECdIGcRE7U8QJ0gZxETtTxAnSBnERO1PECdIGcRE7U8QJ0gZxETtTxAnSBnERO1PECdIGcRE7U8QJ0gZxETtTxAnSBnERO1PECdIGcRE7U8QJ0gZxETtTxAnSBnERO1PECdIGcRE7U8QJ0gZxETtTxAnSBnERO1PECdIGcRE7U8QJ0gZxETtTxAnSBnERO1PECdIGcRE7U8QJ0gZxETtTxAnSBnERO1PECdIGcRE7U8QJ0gZxETtTxAnSBnERO1PECdIGcRE7U8QJ0gZxETtTxAnSBnERO1PECdIGcRE7U8QJ0gZxETtTxAnSBnERO1PECdIGcRE7U8QJ0gZxETtTxAnSBnERO1PECdIGcRE7U8QJ0gZxETtTxAnSBnERO1PECdIGcRE7U8QJ0gZxETtTxAnSBnERO1PECdIGcRE7U8QJ0gZxETtTxAnSBnERO1PECdIGcRE7U8QJ0gZxETtTxAnSBnERO1PECdIGcRE7U8QA==",
          "dtype": "f8"
         }
        }
       ],
       "layout": {
        "template": {
         "data": {
          "bar": [
           {
            "error_x": {
             "color": "#2a3f5f"
            },
            "error_y": {
             "color": "#2a3f5f"
            },
            "marker": {
             "line": {
              "color": "#E5ECF6",
              "width": 0.5
             },
             "pattern": {
              "fillmode": "overlay",
              "size": 10,
              "solidity": 0.2
             }
            },
            "type": "bar"
           }
          ],
          "barpolar": [
           {
            "marker": {
             "line": {
              "color": "#E5ECF6",
              "width": 0.5
             },
             "pattern": {
              "fillmode": "overlay",
              "size": 10,
              "solidity": 0.2
             }
            },
            "type": "barpolar"
           }
          ],
          "carpet": [
           {
            "aaxis": {
             "endlinecolor": "#2a3f5f",
             "gridcolor": "white",
             "linecolor": "white",
             "minorgridcolor": "white",
             "startlinecolor": "#2a3f5f"
            },
            "baxis": {
             "endlinecolor": "#2a3f5f",
             "gridcolor": "white",
             "linecolor": "white",
             "minorgridcolor": "white",
             "startlinecolor": "#2a3f5f"
            },
            "type": "carpet"
           }
          ],
          "choropleth": [
           {
            "colorbar": {
             "outlinewidth": 0,
             "ticks": ""
            },
            "type": "choropleth"
           }
          ],
          "contour": [
           {
            "colorbar": {
             "outlinewidth": 0,
             "ticks": ""
            },
            "colorscale": [
             [
              0,
              "#0d0887"
             ],
             [
              0.1111111111111111,
              "#46039f"
             ],
             [
              0.2222222222222222,
              "#7201a8"
             ],
             [
              0.3333333333333333,
              "#9c179e"
             ],
             [
              0.4444444444444444,
              "#bd3786"
             ],
             [
              0.5555555555555556,
              "#d8576b"
             ],
             [
              0.6666666666666666,
              "#ed7953"
             ],
             [
              0.7777777777777778,
              "#fb9f3a"
             ],
             [
              0.8888888888888888,
              "#fdca26"
             ],
             [
              1,
              "#f0f921"
             ]
            ],
            "type": "contour"
           }
          ],
          "contourcarpet": [
           {
            "colorbar": {
             "outlinewidth": 0,
             "ticks": ""
            },
            "type": "contourcarpet"
           }
          ],
          "heatmap": [
           {
            "colorbar": {
             "outlinewidth": 0,
             "ticks": ""
            },
            "colorscale": [
             [
              0,
              "#0d0887"
             ],
             [
              0.1111111111111111,
              "#46039f"
             ],
             [
              0.2222222222222222,
              "#7201a8"
             ],
             [
              0.3333333333333333,
              "#9c179e"
             ],
             [
              0.4444444444444444,
              "#bd3786"
             ],
             [
              0.5555555555555556,
              "#d8576b"
             ],
             [
              0.6666666666666666,
              "#ed7953"
             ],
             [
              0.7777777777777778,
              "#fb9f3a"
             ],
             [
              0.8888888888888888,
              "#fdca26"
             ],
             [
              1,
              "#f0f921"
             ]
            ],
            "type": "heatmap"
           }
          ],
          "histogram": [
           {
            "marker": {
             "pattern": {
              "fillmode": "overlay",
              "size": 10,
              "solidity": 0.2
             }
            },
            "type": "histogram"
           }
          ],
          "histogram2d": [
           {
            "colorbar": {
             "outlinewidth": 0,
             "ticks": ""
            },
            "colorscale": [
             [
              0,
              "#0d0887"
             ],
             [
              0.1111111111111111,
              "#46039f"
             ],
             [
              0.2222222222222222,
              "#7201a8"
             ],
             [
              0.3333333333333333,
              "#9c179e"
             ],
             [
              0.4444444444444444,
              "#bd3786"
             ],
             [
              0.5555555555555556,
              "#d8576b"
             ],
             [
              0.6666666666666666,
              "#ed7953"
             ],
             [
              0.7777777777777778,
              "#fb9f3a"
             ],
             [
              0.8888888888888888,
              "#fdca26"
             ],
             [
              1,
              "#f0f921"
             ]
            ],
            "type": "histogram2d"
           }
          ],
          "histogram2dcontour": [
           {
            "colorbar": {
             "outlinewidth": 0,
             "ticks": ""
            },
            "colorscale": [
             [
              0,
              "#0d0887"
             ],
             [
              0.1111111111111111,
              "#46039f"
             ],
             [
              0.2222222222222222,
              "#7201a8"
             ],
             [
              0.3333333333333333,
              "#9c179e"
             ],
             [
              0.4444444444444444,
              "#bd3786"
             ],
             [
              0.5555555555555556,
              "#d8576b"
             ],
             [
              0.6666666666666666,
              "#ed7953"
             ],
             [
              0.7777777777777778,
              "#fb9f3a"
             ],
             [
              0.8888888888888888,
              "#fdca26"
             ],
             [
              1,
              "#f0f921"
             ]
            ],
            "type": "histogram2dcontour"
           }
          ],
          "mesh3d": [
           {
            "colorbar": {
             "outlinewidth": 0,
             "ticks": ""
            },
            "type": "mesh3d"
           }
          ],
          "parcoords": [
           {
            "line": {
             "colorbar": {
              "outlinewidth": 0,
              "ticks": ""
             }
            },
            "type": "parcoords"
           }
          ],
          "pie": [
           {
            "automargin": true,
            "type": "pie"
           }
          ],
          "scatter": [
           {
            "fillpattern": {
             "fillmode": "overlay",
             "size": 10,
             "solidity": 0.2
            },
            "type": "scatter"
           }
          ],
          "scatter3d": [
           {
            "line": {
             "colorbar": {
              "outlinewidth": 0,
              "ticks": ""
             }
            },
            "marker": {
             "colorbar": {
              "outlinewidth": 0,
              "ticks": ""
             }
            },
            "type": "scatter3d"
           }
          ],
          "scattercarpet": [
           {
            "marker": {
             "colorbar": {
              "outlinewidth": 0,
              "ticks": ""
             }
            },
            "type": "scattercarpet"
           }
          ],
          "scattergeo": [
           {
            "marker": {
             "colorbar": {
              "outlinewidth": 0,
              "ticks": ""
             }
            },
            "type": "scattergeo"
           }
          ],
          "scattergl": [
           {
            "marker": {
             "colorbar": {
              "outlinewidth": 0,
              "ticks": ""
             }
            },
            "type": "scattergl"
           }
          ],
          "scattermap": [
           {
            "marker": {
             "colorbar": {
              "outlinewidth": 0,
              "ticks": ""
             }
            },
            "type": "scattermap"
           }
          ],
          "scattermapbox": [
           {
            "marker": {
             "colorbar": {
              "outlinewidth": 0,
              "ticks": ""
             }
            },
            "type": "scattermapbox"
           }
          ],
          "scatterpolar": [
           {
            "marker": {
             "colorbar": {
              "outlinewidth": 0,
              "ticks": ""
             }
            },
            "type": "scatterpolar"
           }
          ],
          "scatterpolargl": [
           {
            "marker": {
             "colorbar": {
              "outlinewidth": 0,
              "ticks": ""
             }
            },
            "type": "scatterpolargl"
           }
          ],
          "scatterternary": [
           {
            "marker": {
             "colorbar": {
              "outlinewidth": 0,
              "ticks": ""
             }
            },
            "type": "scatterternary"
           }
          ],
          "surface": [
           {
            "colorbar": {
             "outlinewidth": 0,
             "ticks": ""
            },
            "colorscale": [
             [
              0,
              "#0d0887"
             ],
             [
              0.1111111111111111,
              "#46039f"
             ],
             [
              0.2222222222222222,
              "#7201a8"
             ],
             [
              0.3333333333333333,
              "#9c179e"
             ],
             [
              0.4444444444444444,
              "#bd3786"
             ],
             [
              0.5555555555555556,
              "#d8576b"
             ],
             [
              0.6666666666666666,
              "#ed7953"
             ],
             [
              0.7777777777777778,
              "#fb9f3a"
             ],
             [
              0.8888888888888888,
              "#fdca26"
             ],
             [
              1,
              "#f0f921"
             ]
            ],
            "type": "surface"
           }
          ],
          "table": [
           {
            "cells": {
             "fill": {
              "color": "#EBF0F8"
             },
             "line": {
              "color": "white"
             }
            },
            "header": {
             "fill": {
              "color": "#C8D4E3"
             },
             "line": {
              "color": "white"
             }
            },
            "type": "table"
           }
          ]
         },
         "layout": {
          "annotationdefaults": {
           "arrowcolor": "#2a3f5f",
           "arrowhead": 0,
           "arrowwidth": 1
          },
          "autotypenumbers": "strict",
          "coloraxis": {
           "colorbar": {
            "outlinewidth": 0,
            "ticks": ""
           }
          },
          "colorscale": {
           "diverging": [
            [
             0,
             "#8e0152"
            ],
            [
             0.1,
             "#c51b7d"
            ],
            [
             0.2,
             "#de77ae"
            ],
            [
             0.3,
             "#f1b6da"
            ],
            [
             0.4,
             "#fde0ef"
            ],
            [
             0.5,
             "#f7f7f7"
            ],
            [
             0.6,
             "#e6f5d0"
            ],
            [
             0.7,
             "#b8e186"
            ],
            [
             0.8,
             "#7fbc41"
            ],
            [
             0.9,
             "#4d9221"
            ],
            [
             1,
             "#276419"
            ]
           ],
           "sequential": [
            [
             0,
             "#0d0887"
            ],
            [
             0.1111111111111111,
             "#46039f"
            ],
            [
             0.2222222222222222,
             "#7201a8"
            ],
            [
             0.3333333333333333,
             "#9c179e"
            ],
            [
             0.4444444444444444,
             "#bd3786"
            ],
            [
             0.5555555555555556,
             "#d8576b"
            ],
            [
             0.6666666666666666,
             "#ed7953"
            ],
            [
             0.7777777777777778,
             "#fb9f3a"
            ],
            [
             0.8888888888888888,
             "#fdca26"
            ],
            [
             1,
             "#f0f921"
            ]
           ],
           "sequentialminus": [
            [
             0,
             "#0d0887"
            ],
            [
             0.1111111111111111,
             "#46039f"
            ],
            [
             0.2222222222222222,
             "#7201a8"
            ],
            [
             0.3333333333333333,
             "#9c179e"
            ],
            [
             0.4444444444444444,
             "#bd3786"
            ],
            [
             0.5555555555555556,
             "#d8576b"
            ],
            [
             0.6666666666666666,
             "#ed7953"
            ],
            [
             0.7777777777777778,
             "#fb9f3a"
            ],
            [
             0.8888888888888888,
             "#fdca26"
            ],
            [
             1,
             "#f0f921"
            ]
           ]
          },
          "colorway": [
           "#636efa",
           "#EF553B",
           "#00cc96",
           "#ab63fa",
           "#FFA15A",
           "#19d3f3",
           "#FF6692",
           "#B6E880",
           "#FF97FF",
           "#FECB52"
          ],
          "font": {
           "color": "#2a3f5f"
          },
          "geo": {
           "bgcolor": "white",
           "lakecolor": "white",
           "landcolor": "#E5ECF6",
           "showlakes": true,
           "showland": true,
           "subunitcolor": "white"
          },
          "hoverlabel": {
           "align": "left"
          },
          "hovermode": "closest",
          "mapbox": {
           "style": "light"
          },
          "paper_bgcolor": "white",
          "plot_bgcolor": "#E5ECF6",
          "polar": {
           "angularaxis": {
            "gridcolor": "white",
            "linecolor": "white",
            "ticks": ""
           },
           "bgcolor": "#E5ECF6",
           "radialaxis": {
            "gridcolor": "white",
            "linecolor": "white",
            "ticks": ""
           }
          },
          "scene": {
           "xaxis": {
            "backgroundcolor": "#E5ECF6",
            "gridcolor": "white",
            "gridwidth": 2,
            "linecolor": "white",
            "showbackground": true,
            "ticks": "",
            "zerolinecolor": "white"
           },
           "yaxis": {
            "backgroundcolor": "#E5ECF6",
            "gridcolor": "white",
            "gridwidth": 2,
            "linecolor": "white",
            "showbackground": true,
            "ticks": "",
            "zerolinecolor": "white"
           },
           "zaxis": {
            "backgroundcolor": "#E5ECF6",
            "gridcolor": "white",
            "gridwidth": 2,
            "linecolor": "white",
            "showbackground": true,
            "ticks": "",
            "zerolinecolor": "white"
           }
          },
          "shapedefaults": {
           "line": {
            "color": "#2a3f5f"
           }
          },
          "ternary": {
           "aaxis": {
            "gridcolor": "white",
            "linecolor": "white",
            "ticks": ""
           },
           "baxis": {
            "gridcolor": "white",
            "linecolor": "white",
            "ticks": ""
           },
           "bgcolor": "#E5ECF6",
           "caxis": {
            "gridcolor": "white",
            "linecolor": "white",
            "ticks": ""
           }
          },
          "title": {
           "x": 0.05
          },
          "xaxis": {
           "automargin": true,
           "gridcolor": "white",
           "linecolor": "white",
           "ticks": "",
           "title": {
            "standoff": 15
           },
           "zerolinecolor": "white",
           "zerolinewidth": 2
          },
          "yaxis": {
           "automargin": true,
           "gridcolor": "white",
           "linecolor": "white",
           "ticks": "",
           "title": {
            "standoff": 15
           },
           "zerolinecolor": "white",
           "zerolinewidth": 2
          }
         }
        }
       }
      }
     },
     "metadata": {},
     "output_type": "display_data"
    }
   ],
   "source": [
    "fig = go.Figure()\n",
    "fig.add_trace(go.Scatter(x=df_preds['Date'], y=df_preds['Total_Consumption'],\n",
    "                    mode='lines',\n",
    "                    name='lines'))\n",
    "fig.add_trace(go.Scatter(x=df_preds['Date'], y=df_preds['Predicted_Consumption'],\n",
    "                    mode='lines',\n",
    "                    name='lines'))"
   ]
  },
  {
   "cell_type": "code",
   "execution_count": 12,
   "metadata": {},
   "outputs": [],
   "source": [
    "new_dates = pd.date_range(start='2021/07/31', end='2021/09/30')"
   ]
  },
  {
   "cell_type": "code",
   "execution_count": 13,
   "metadata": {},
   "outputs": [],
   "source": [
    "train = df.Total_Consumption.values\n",
    "\n",
    "my_order = (1, 1, 1)\n",
    "my_seasonal_order = (1, 1, 1, 62)\n",
    "\n",
    "model = sm.tsa.SARIMAX(train, order=my_order, seasonal_order=my_seasonal_order,enforce_stationarity=False,enforce_invertibility=False)\n",
    "model_fit = model.fit()\n",
    "output = model_fit.forecast(62)"
   ]
  },
  {
   "cell_type": "code",
   "execution_count": 14,
   "metadata": {},
   "outputs": [],
   "source": [
    "listofzeros = [np.nan] * 62"
   ]
  },
  {
   "cell_type": "code",
   "execution_count": 15,
   "metadata": {},
   "outputs": [],
   "source": [
    "data_new = {'Date':new_dates,\n",
    "            'Total_Consumption':listofzeros,\n",
    "            'Predicted_Consumption':output}\n",
    "\n",
    "df_new_preds = pd.DataFrame(data_new)"
   ]
  },
  {
   "cell_type": "code",
   "execution_count": 16,
   "metadata": {},
   "outputs": [],
   "source": [
    "df_all = pd.concat([df_preds, df_new_preds], ignore_index=True)"
   ]
  },
  {
   "cell_type": "code",
   "execution_count": 17,
   "metadata": {},
   "outputs": [
    {
     "data": {
      "text/html": [
       "<div>\n",
       "<style scoped>\n",
       "    .dataframe tbody tr th:only-of-type {\n",
       "        vertical-align: middle;\n",
       "    }\n",
       "\n",
       "    .dataframe tbody tr th {\n",
       "        vertical-align: top;\n",
       "    }\n",
       "\n",
       "    .dataframe thead th {\n",
       "        text-align: right;\n",
       "    }\n",
       "</style>\n",
       "<table border=\"1\" class=\"dataframe\">\n",
       "  <thead>\n",
       "    <tr style=\"text-align: right;\">\n",
       "      <th></th>\n",
       "      <th>Date</th>\n",
       "      <th>Total_Consumption</th>\n",
       "      <th>Predicted_Consumption</th>\n",
       "    </tr>\n",
       "  </thead>\n",
       "  <tbody>\n",
       "    <tr>\n",
       "      <th>0</th>\n",
       "      <td>2022-10-13</td>\n",
       "      <td>39.3</td>\n",
       "      <td>28.707322</td>\n",
       "    </tr>\n",
       "    <tr>\n",
       "      <th>1</th>\n",
       "      <td>2022-10-14</td>\n",
       "      <td>57.9</td>\n",
       "      <td>28.707322</td>\n",
       "    </tr>\n",
       "    <tr>\n",
       "      <th>2</th>\n",
       "      <td>2022-10-15</td>\n",
       "      <td>20.7</td>\n",
       "      <td>28.707322</td>\n",
       "    </tr>\n",
       "    <tr>\n",
       "      <th>3</th>\n",
       "      <td>2022-10-16</td>\n",
       "      <td>49.2</td>\n",
       "      <td>28.707322</td>\n",
       "    </tr>\n",
       "    <tr>\n",
       "      <th>4</th>\n",
       "      <td>2022-10-17</td>\n",
       "      <td>24.9</td>\n",
       "      <td>28.707322</td>\n",
       "    </tr>\n",
       "    <tr>\n",
       "      <th>...</th>\n",
       "      <td>...</td>\n",
       "      <td>...</td>\n",
       "      <td>...</td>\n",
       "    </tr>\n",
       "    <tr>\n",
       "      <th>137</th>\n",
       "      <td>2021-09-26</td>\n",
       "      <td>NaN</td>\n",
       "      <td>7.952769</td>\n",
       "    </tr>\n",
       "    <tr>\n",
       "      <th>138</th>\n",
       "      <td>2021-09-27</td>\n",
       "      <td>NaN</td>\n",
       "      <td>22.041882</td>\n",
       "    </tr>\n",
       "    <tr>\n",
       "      <th>139</th>\n",
       "      <td>2021-09-28</td>\n",
       "      <td>NaN</td>\n",
       "      <td>2.668141</td>\n",
       "    </tr>\n",
       "    <tr>\n",
       "      <th>140</th>\n",
       "      <td>2021-09-29</td>\n",
       "      <td>NaN</td>\n",
       "      <td>1.757678</td>\n",
       "    </tr>\n",
       "    <tr>\n",
       "      <th>141</th>\n",
       "      <td>2021-09-30</td>\n",
       "      <td>NaN</td>\n",
       "      <td>3.118902</td>\n",
       "    </tr>\n",
       "  </tbody>\n",
       "</table>\n",
       "<p>142 rows × 3 columns</p>\n",
       "</div>"
      ],
      "text/plain": [
       "          Date  Total_Consumption  Predicted_Consumption\n",
       "0   2022-10-13               39.3              28.707322\n",
       "1   2022-10-14               57.9              28.707322\n",
       "2   2022-10-15               20.7              28.707322\n",
       "3   2022-10-16               49.2              28.707322\n",
       "4   2022-10-17               24.9              28.707322\n",
       "..         ...                ...                    ...\n",
       "137 2021-09-26                NaN               7.952769\n",
       "138 2021-09-27                NaN              22.041882\n",
       "139 2021-09-28                NaN               2.668141\n",
       "140 2021-09-29                NaN               1.757678\n",
       "141 2021-09-30                NaN               3.118902\n",
       "\n",
       "[142 rows x 3 columns]"
      ]
     },
     "execution_count": 17,
     "metadata": {},
     "output_type": "execute_result"
    }
   ],
   "source": [
    "df_all"
   ]
  },
  {
   "cell_type": "code",
   "execution_count": 18,
   "metadata": {},
   "outputs": [],
   "source": [
    "df_all['MAE'] = df_all['Total_Consumption'] - df_all['Predicted_Consumption']"
   ]
  },
  {
   "cell_type": "code",
   "execution_count": 19,
   "metadata": {},
   "outputs": [],
   "source": [
    "df_anoms = df_all[df_all['MAE'] >= 5]\n",
    "df_anoms.reset_index(drop=True, inplace=True)"
   ]
  },
  {
   "cell_type": "code",
   "execution_count": 20,
   "metadata": {},
   "outputs": [],
   "source": [
    "df_anoms['extra_MAE'] = df_anoms['MAE'] - 5"
   ]
  },
  {
   "cell_type": "code",
   "execution_count": 21,
   "metadata": {},
   "outputs": [],
   "source": [
    "df_anoms['extra_MAE_cost'] = df_anoms['extra_MAE']*9"
   ]
  },
  {
   "cell_type": "code",
   "execution_count": 22,
   "metadata": {},
   "outputs": [
    {
     "data": {
      "text/plain": [
       "Date\n",
       "10     828.306901\n",
       "11    2121.211502\n",
       "Name: extra_MAE_cost, dtype: float64"
      ]
     },
     "execution_count": 22,
     "metadata": {},
     "output_type": "execute_result"
    }
   ],
   "source": [
    "df_anoms.groupby(df_anoms['Date'].dt.month)['extra_MAE_cost'].sum()"
   ]
  },
  {
   "cell_type": "code",
   "execution_count": 23,
   "metadata": {},
   "outputs": [
    {
     "data": {
      "text/plain": [
       "0       0.0\n",
       "1       0.0\n",
       "2       0.0\n",
       "3    4187.4\n",
       "4    7591.5\n",
       "5    2811.9\n",
       "Name: Total_Consumption, dtype: float64"
      ]
     },
     "execution_count": 23,
     "metadata": {},
     "output_type": "execute_result"
    }
   ],
   "source": [
    "df_all.groupby(df_all['Date'].dt.month)['Total_Consumption'].sum().reset_index()['Total_Consumption']*7"
   ]
  },
  {
   "cell_type": "code",
   "execution_count": 24,
   "metadata": {},
   "outputs": [
    {
     "data": {
      "text/plain": [
       "0.0782608695652174"
      ]
     },
     "execution_count": 24,
     "metadata": {},
     "output_type": "execute_result"
    }
   ],
   "source": [
    "180/2300 # 8-15%"
   ]
  },
  {
   "cell_type": "code",
   "execution_count": 25,
   "metadata": {},
   "outputs": [],
   "source": [
    "df_anoms = df_all[df_all['MAE'] >= 10]\n",
    "df_anoms.reset_index(drop=True, inplace=True)"
   ]
  },
  {
   "cell_type": "code",
   "execution_count": 26,
   "metadata": {},
   "outputs": [
    {
     "data": {
      "text/html": [
       "<div>\n",
       "<style scoped>\n",
       "    .dataframe tbody tr th:only-of-type {\n",
       "        vertical-align: middle;\n",
       "    }\n",
       "\n",
       "    .dataframe tbody tr th {\n",
       "        vertical-align: top;\n",
       "    }\n",
       "\n",
       "    .dataframe thead th {\n",
       "        text-align: right;\n",
       "    }\n",
       "</style>\n",
       "<table border=\"1\" class=\"dataframe\">\n",
       "  <thead>\n",
       "    <tr style=\"text-align: right;\">\n",
       "      <th></th>\n",
       "      <th>Date</th>\n",
       "      <th>Total_Consumption</th>\n",
       "      <th>Predicted_Consumption</th>\n",
       "      <th>MAE</th>\n",
       "    </tr>\n",
       "  </thead>\n",
       "  <tbody>\n",
       "    <tr>\n",
       "      <th>18</th>\n",
       "      <td>2022-11-27</td>\n",
       "      <td>71.4</td>\n",
       "      <td>28.707322</td>\n",
       "      <td>42.692678</td>\n",
       "    </tr>\n",
       "    <tr>\n",
       "      <th>19</th>\n",
       "      <td>2022-11-30</td>\n",
       "      <td>53.1</td>\n",
       "      <td>28.707322</td>\n",
       "      <td>24.392678</td>\n",
       "    </tr>\n",
       "  </tbody>\n",
       "</table>\n",
       "</div>"
      ],
      "text/plain": [
       "         Date  Total_Consumption  Predicted_Consumption        MAE\n",
       "18 2022-11-27               71.4              28.707322  42.692678\n",
       "19 2022-11-30               53.1              28.707322  24.392678"
      ]
     },
     "execution_count": 26,
     "metadata": {},
     "output_type": "execute_result"
    }
   ],
   "source": [
    "df_anoms.tail(2)"
   ]
  },
  {
   "cell_type": "code",
   "execution_count": 27,
   "metadata": {},
   "outputs": [],
   "source": [
    "df_anoms['extra_MAE'] = df_anoms['MAE'] - 10"
   ]
  },
  {
   "cell_type": "code",
   "execution_count": 28,
   "metadata": {},
   "outputs": [],
   "source": [
    "df_anoms['extra_MAE_cost'] = df_anoms['extra_MAE']*9"
   ]
  },
  {
   "cell_type": "code",
   "execution_count": 29,
   "metadata": {},
   "outputs": [
    {
     "data": {
      "text/plain": [
       "Date\n",
       "10     453.138701\n",
       "11    1521.943302\n",
       "Name: extra_MAE_cost, dtype: float64"
      ]
     },
     "execution_count": 29,
     "metadata": {},
     "output_type": "execute_result"
    }
   ],
   "source": [
    "df_anoms.groupby(df_anoms['Date'].dt.month)['extra_MAE_cost'].sum()"
   ]
  },
  {
   "cell_type": "code",
   "execution_count": 30,
   "metadata": {},
   "outputs": [
    {
     "data": {
      "text/plain": [
       "0       0.0\n",
       "1       0.0\n",
       "2       0.0\n",
       "3    4187.4\n",
       "4    7591.5\n",
       "5    2811.9\n",
       "Name: Total_Consumption, dtype: float64"
      ]
     },
     "execution_count": 30,
     "metadata": {},
     "output_type": "execute_result"
    }
   ],
   "source": [
    "df_all.groupby(df_all['Date'].dt.month)['Total_Consumption'].sum().reset_index()['Total_Consumption']*7"
   ]
  },
  {
   "cell_type": "code",
   "execution_count": 31,
   "metadata": {},
   "outputs": [
    {
     "data": {
      "text/plain": [
       "0.0719927781539156"
      ]
     },
     "execution_count": 31,
     "metadata": {},
     "output_type": "execute_result"
    }
   ],
   "source": [
    "638/8862 # 8-15%"
   ]
  },
  {
   "cell_type": "code",
   "execution_count": 32,
   "metadata": {},
   "outputs": [],
   "source": [
    "df_anoms = df_all[df_all['MAE'] >= 12]\n",
    "df_anoms.reset_index(drop=True, inplace=True)"
   ]
  },
  {
   "cell_type": "code",
   "execution_count": 33,
   "metadata": {},
   "outputs": [
    {
     "data": {
      "text/html": [
       "<div>\n",
       "<style scoped>\n",
       "    .dataframe tbody tr th:only-of-type {\n",
       "        vertical-align: middle;\n",
       "    }\n",
       "\n",
       "    .dataframe tbody tr th {\n",
       "        vertical-align: top;\n",
       "    }\n",
       "\n",
       "    .dataframe thead th {\n",
       "        text-align: right;\n",
       "    }\n",
       "</style>\n",
       "<table border=\"1\" class=\"dataframe\">\n",
       "  <thead>\n",
       "    <tr style=\"text-align: right;\">\n",
       "      <th></th>\n",
       "      <th>Date</th>\n",
       "      <th>Total_Consumption</th>\n",
       "      <th>Predicted_Consumption</th>\n",
       "      <th>MAE</th>\n",
       "    </tr>\n",
       "  </thead>\n",
       "  <tbody>\n",
       "    <tr>\n",
       "      <th>15</th>\n",
       "      <td>2022-11-27</td>\n",
       "      <td>71.4</td>\n",
       "      <td>28.707322</td>\n",
       "      <td>42.692678</td>\n",
       "    </tr>\n",
       "    <tr>\n",
       "      <th>16</th>\n",
       "      <td>2022-11-30</td>\n",
       "      <td>53.1</td>\n",
       "      <td>28.707322</td>\n",
       "      <td>24.392678</td>\n",
       "    </tr>\n",
       "  </tbody>\n",
       "</table>\n",
       "</div>"
      ],
      "text/plain": [
       "         Date  Total_Consumption  Predicted_Consumption        MAE\n",
       "15 2022-11-27               71.4              28.707322  42.692678\n",
       "16 2022-11-30               53.1              28.707322  24.392678"
      ]
     },
     "execution_count": 33,
     "metadata": {},
     "output_type": "execute_result"
    }
   ],
   "source": [
    "df_anoms.tail(2)"
   ]
  },
  {
   "cell_type": "code",
   "execution_count": 34,
   "metadata": {},
   "outputs": [],
   "source": [
    "df_anoms['extra_MAE'] = df_anoms['MAE'] - 12"
   ]
  },
  {
   "cell_type": "code",
   "execution_count": 35,
   "metadata": {},
   "outputs": [],
   "source": [
    "df_anoms['extra_MAE_cost'] = df_anoms['extra_MAE']*9"
   ]
  },
  {
   "cell_type": "code",
   "execution_count": 36,
   "metadata": {},
   "outputs": [
    {
     "data": {
      "text/plain": [
       "Date\n",
       "10     347.070501\n",
       "11    1300.609202\n",
       "Name: extra_MAE_cost, dtype: float64"
      ]
     },
     "execution_count": 36,
     "metadata": {},
     "output_type": "execute_result"
    }
   ],
   "source": [
    "df_anoms.groupby(df_anoms['Date'].dt.month)['extra_MAE_cost'].sum()"
   ]
  },
  {
   "cell_type": "code",
   "execution_count": 37,
   "metadata": {},
   "outputs": [
    {
     "data": {
      "text/plain": [
       "0       0.0\n",
       "1       0.0\n",
       "2       0.0\n",
       "3    4187.4\n",
       "4    7591.5\n",
       "5    2811.9\n",
       "Name: Total_Consumption, dtype: float64"
      ]
     },
     "execution_count": 37,
     "metadata": {},
     "output_type": "execute_result"
    }
   ],
   "source": [
    "df_all.groupby(df_all['Date'].dt.month)['Total_Consumption'].sum().reset_index()['Total_Consumption']*7"
   ]
  },
  {
   "cell_type": "code",
   "execution_count": 38,
   "metadata": {},
   "outputs": [
    {
     "data": {
      "text/plain": [
       "0.0782608695652174"
      ]
     },
     "execution_count": 38,
     "metadata": {},
     "output_type": "execute_result"
    }
   ],
   "source": [
    "180/2300 # 8-15%"
   ]
  },
  {
   "cell_type": "code",
   "execution_count": 39,
   "metadata": {},
   "outputs": [],
   "source": [
    "ved = pd.DataFrame(columns=['Date', 'Total_Consumption', 'Predicted_Consumption', 'MAE'])\n",
    "for i in range(len(df_all['Date'])):\n",
    "    ved.loc[i,'Date'] = df_all.loc[i,'Date']\n",
    "    ved.loc[i,'Total_Consumption'] = df_all.loc[i,'Total_Consumption']\n",
    "    ved.loc[i,'Predicted_Consumption'] = df_all.loc[i,'Predicted_Consumption']\n",
    "    ved.loc[i,'MAE'] = df_all.loc[i,'MAE']\n",
    "\n",
    "ved.to_csv('new_pred2022.csv', index=False) "
   ]
  }
 ],
 "metadata": {
  "kernelspec": {
   "display_name": "Python 3",
   "language": "python",
   "name": "python3"
  },
  "language_info": {
   "codemirror_mode": {
    "name": "ipython",
    "version": 3
   },
   "file_extension": ".py",
   "mimetype": "text/x-python",
   "name": "python",
   "nbconvert_exporter": "python",
   "pygments_lexer": "ipython3",
   "version": "3.11.9"
  }
 },
 "nbformat": 4,
 "nbformat_minor": 2
}
